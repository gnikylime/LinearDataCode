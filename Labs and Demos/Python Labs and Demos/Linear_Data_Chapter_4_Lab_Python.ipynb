{
 "cells": [
  {
   "cell_type": "markdown",
   "metadata": {},
   "source": [
    "Linear Data Lab 4\n",
    "\n",
    "Original lab written by: Emily J. King\n",
    "\n",
    "Goals: Apply linear combinations of signal (sound) data. Use software to convert the information in (sound) signals, e.g. audio to visualization, audio to spectrogram. Apply basic statistical measures to (sound) signals.\n",
    "\n",
    "Additional files needed: LinearDatasound.npz, \n",
    "in the same folder as this ipynb file or in the path. (We have not discussed the path.  If you don't know what \"path\" means, just make sure the two files are in the same folder.)\n",
    "\n",
    "NOTE: Due to multiple song files being played, do not use \"run all\"."
   ]
  },
  {
   "cell_type": "code",
   "execution_count": null,
   "metadata": {},
   "outputs": [],
   "source": [
    "import numpy as np\n",
    "import matplotlib.pyplot as plt\n",
    "from IPython.display import Audio # needed to play audio"
   ]
  },
  {
   "cell_type": "markdown",
   "metadata": {},
   "source": [
    "Section 1: Plotting and playing song vectors"
   ]
  },
  {
   "cell_type": "markdown",
   "metadata": {},
   "source": [
    "Loading the song files."
   ]
  },
  {
   "cell_type": "code",
   "execution_count": null,
   "metadata": {},
   "outputs": [],
   "source": [
    "npzfile=np.load('LinearDatasound.npz')\n",
    "locals().update(npzfile)\n",
    "Fs= 44100 # sampling rate"
   ]
  },
  {
   "cell_type": "markdown",
   "metadata": {},
   "source": [
    "Song credits:\n",
    "\n",
    "x = clip from King Gizzard and the Lizard Wizard - Flightless Records - 2017\n",
    "y = clip from Björk - Hunter - OLI Records - 1998\n",
    "z = clip from Black Star - Definition - Rawkus Records - 1999\n",
    "u = clip from Johnny Cash - So Doggone Lonesome - Sun Records - 1955\n",
    "v = clip from Vicente Fernández - Guadalajara (remasterizado) - 2006"
   ]
  },
  {
   "cell_type": "markdown",
   "metadata": {},
   "source": [
    "In Python, anything to the right of a hash sign is ignored.  This is called a comment.  If you want to play around with your own sound files, remove the hash signs on the left hand side of each line in the following block of code and modify the file names. \n",
    "It's possible you might need to do more on the command line than the two %pip lines below to get these packages working in Jupyter.  If you can't figure it out, then just use the songs provided.\n",
    "Replace y and yFs with z and zFs, respectively, in the code below to import in two different files and compare them as in code that follows.  Double check that yFs and zFs are both equal to 44100.  If so, set Fs = 44,000. If not, you'll need to change the rate in the audio calls."
   ]
  },
  {
   "cell_type": "code",
   "execution_count": null,
   "metadata": {},
   "outputs": [],
   "source": [
    "#%pip install audio2numpy # if needed.   \n",
    "#%pip install ffmpeg # if needed\n",
    "\n",
    "#import audio2numpy as a2n\n",
    "#y,yFs=a2n.audio_from_file(\"YOUR MP3, WAV, or AIFF\")\n",
    "#L=1000001\n",
    "#y=y[:L,]"
   ]
  },
  {
   "cell_type": "markdown",
   "metadata": {},
   "source": [
    "Visualize song y."
   ]
  },
  {
   "cell_type": "code",
   "execution_count": null,
   "metadata": {},
   "outputs": [],
   "source": [
    "plt.plot(y[:,0])"
   ]
  },
  {
   "cell_type": "markdown",
   "metadata": {},
   "source": [
    "Play song y.\n",
    "\n",
    "(Jupyter's audio function doesn't seem to support two-channel audio, even though the documentation says it does.)"
   ]
  },
  {
   "cell_type": "code",
   "execution_count": null,
   "metadata": {},
   "outputs": [],
   "source": [
    "Audio(y[:,0], normalize=False, rate=Fs) "
   ]
  },
  {
   "cell_type": "markdown",
   "metadata": {},
   "source": [
    "Visualize song z."
   ]
  },
  {
   "cell_type": "code",
   "execution_count": null,
   "metadata": {},
   "outputs": [],
   "source": [
    "plt.plot(z[:,0])"
   ]
  },
  {
   "cell_type": "markdown",
   "metadata": {},
   "source": [
    "Listen to song z."
   ]
  },
  {
   "cell_type": "code",
   "execution_count": null,
   "metadata": {},
   "outputs": [],
   "source": [
    "Audio(z[:,0], normalize=False, rate=Fs) "
   ]
  },
  {
   "cell_type": "markdown",
   "metadata": {},
   "source": [
    "Visualize 0.25 times z."
   ]
  },
  {
   "cell_type": "code",
   "execution_count": null,
   "metadata": {},
   "outputs": [],
   "source": [
    "plt.plot(0.25*z[:,0])\n",
    "plt.ylim([np.min(z),np.max(z)])"
   ]
  },
  {
   "cell_type": "markdown",
   "metadata": {},
   "source": [
    "Listen to 0.25 times z."
   ]
  },
  {
   "cell_type": "code",
   "execution_count": null,
   "metadata": {},
   "outputs": [],
   "source": [
    "Audio(0.25*z[:,0], normalize=False, rate=Fs) "
   ]
  },
  {
   "cell_type": "markdown",
   "metadata": {},
   "source": [
    "Plot 0.25*z + y."
   ]
  },
  {
   "cell_type": "code",
   "execution_count": null,
   "metadata": {},
   "outputs": [],
   "source": [
    "plt.plot(0.25*z[:,0]+y[:,0])"
   ]
  },
  {
   "cell_type": "markdown",
   "metadata": {},
   "source": [
    "Listen to 0.25*z + y."
   ]
  },
  {
   "cell_type": "code",
   "execution_count": null,
   "metadata": {},
   "outputs": [],
   "source": [
    "Audio(0.25*z[:,0]+y[:,0], normalize=False, rate=Fs) "
   ]
  },
  {
   "cell_type": "markdown",
   "metadata": {},
   "source": [
    "Section 2: Visualize the song vectors using spectrograms."
   ]
  },
  {
   "cell_type": "markdown",
   "metadata": {},
   "source": [
    "There are a lot of parameters to make a spectrogram \"look good\".  We will not cover them in this class.  Just use the parameters below (coupled with Matplotlib's defaults), unless you already have experience with spectrograms."
   ]
  },
  {
   "cell_type": "code",
   "execution_count": null,
   "metadata": {},
   "outputs": [],
   "source": [
    "Nx = np.size(z,0)\n",
    "nfft = np.floor(Nx/616).astype(int)\n",
    "time_length = Nx/Fs"
   ]
  },
  {
   "cell_type": "markdown",
   "metadata": {},
   "source": [
    "Plot the spectrogram of z."
   ]
  },
  {
   "cell_type": "code",
   "execution_count": null,
   "metadata": {},
   "outputs": [],
   "source": [
    "fig, ax = plt.subplots()\n",
    "Pxx, freqs, bins, im = ax.specgram(z[:,0], NFFT=nfft, Fs=Fs)\n",
    "ax.set_xlabel('Time (s)')\n",
    "ax.set_ylabel('Frequency (Hz)')\n",
    "ax.set_xlim(0, time_length)"
   ]
  },
  {
   "cell_type": "markdown",
   "metadata": {},
   "source": [
    "Plot the spectrogram of y."
   ]
  },
  {
   "cell_type": "code",
   "execution_count": null,
   "metadata": {},
   "outputs": [],
   "source": [
    "fig, ax = plt.subplots()\n",
    "Pxx, freqs, bins, im = ax.specgram(y[:,0], NFFT=nfft, Fs=Fs)\n",
    "ax.set_xlabel('Time (s)')\n",
    "ax.set_ylabel('Frequency (Hz)')\n",
    "ax.set_xlim(0, time_length)"
   ]
  },
  {
   "cell_type": "markdown",
   "metadata": {},
   "source": [
    "Plot the spectrogram of 0.25z+y."
   ]
  },
  {
   "cell_type": "code",
   "execution_count": null,
   "metadata": {},
   "outputs": [],
   "source": [
    "fig, ax = plt.subplots()\n",
    "Pxx, freqs, bins, im = ax.specgram(0.25*z[:,0]+y[:,0], NFFT=nfft, Fs=Fs)\n",
    "ax.set_xlabel('Time (s)')\n",
    "ax.set_ylabel('Frequency (Hz)')\n",
    "ax.set_xlim(0, time_length)"
   ]
  },
  {
   "cell_type": "markdown",
   "metadata": {},
   "source": [
    "Section 3: Compute basic statistics of song files."
   ]
  },
  {
   "cell_type": "markdown",
   "metadata": {},
   "source": [
    "The average values of z, y, and 0.25z+y."
   ]
  },
  {
   "cell_type": "code",
   "execution_count": null,
   "metadata": {},
   "outputs": [],
   "source": [
    "print(\"The average value of song file z is\",np.average(z),\".\")\n",
    "print(\"The average value of song file y is\",np.average(y),\".\")\n",
    "print(\"The average value of song file 0.25z+z is\",np.average(0.25*z+y),\".\")"
   ]
  },
  {
   "cell_type": "markdown",
   "metadata": {},
   "source": [
    "The standard deviations of z, y, and 0.25z+y."
   ]
  },
  {
   "cell_type": "code",
   "execution_count": null,
   "metadata": {},
   "outputs": [],
   "source": [
    "print(\"The standard deviation of song file z is\",np.std(z),\".\")\n",
    "print(\"The standard deviation of song file y is\",np.std(y),\".\")\n",
    "print(\"The standard deviation of song file 0.25z+z is\",np.std(0.25*z+y),\".\")"
   ]
  },
  {
   "cell_type": "markdown",
   "metadata": {},
   "source": [
    "Lab 4 Exercises\n",
    "\n",
    "1. Choose a pair of songs, two from the files loaded from LinearDatasound.npz, two of your own loaded using the commented out code, or a mixture. Call the song vectors song1 and song2. "
   ]
  },
  {
   "cell_type": "code",
   "execution_count": null,
   "metadata": {},
   "outputs": [],
   "source": []
  },
  {
   "cell_type": "markdown",
   "metadata": {},
   "source": [
    "2. Compute and listen to three different linear combinations of the songs."
   ]
  },
  {
   "cell_type": "code",
   "execution_count": null,
   "metadata": {},
   "outputs": [],
   "source": []
  },
  {
   "cell_type": "code",
   "execution_count": null,
   "metadata": {},
   "outputs": [],
   "source": []
  },
  {
   "cell_type": "code",
   "execution_count": null,
   "metadata": {},
   "outputs": [],
   "source": []
  },
  {
   "cell_type": "markdown",
   "metadata": {},
   "source": [
    "3. Plot the moving averages of song1 with window lengths of 101 and 1001 using the code below. The ends are trimmed off so that all of the vectors are the same length. (Code provided below.)"
   ]
  },
  {
   "cell_type": "code",
   "execution_count": null,
   "metadata": {},
   "outputs": [],
   "source": [
    "song1_ma101=np.convolve(song1[:,1],np.ones(101)/101,mode='full')\n",
    "song1_ma1001=np.convolve(song1[:,1],np.ones(1001)/1001,mode='full')\n",
    "\n",
    "ax = plt.gca()\n",
    "plt.plot(song1[500:-500,1],label='song1')\n",
    "plt.plot(song1_ma101[500:-500],label='mov ave 101')\n",
    "plt.plot(song1_ma1001[500:-500],label='mov ave 1001')\n",
    "ax.legend()"
   ]
  },
  {
   "cell_type": "markdown",
   "metadata": {},
   "source": [
    "Now listen to the moving averages.  If you don't hear anything the first time through, turn up your volume and play again.\n",
    "\n",
    "Note if you use your own songs and the xsr shown during import is not equal to 44,100, then you will need to update the rate in the following commands.\n",
    "\n",
    "First the original song."
   ]
  },
  {
   "cell_type": "code",
   "execution_count": null,
   "metadata": {},
   "outputs": [],
   "source": [
    "Audio(song1[:,1], normalize=False, rate=44100) "
   ]
  },
  {
   "cell_type": "markdown",
   "metadata": {},
   "source": [
    "Next the moving average with window of length 101."
   ]
  },
  {
   "cell_type": "code",
   "execution_count": null,
   "metadata": {},
   "outputs": [],
   "source": [
    "Audio(song1_ma101[500:-500], normalize=False, rate=44100) "
   ]
  },
  {
   "cell_type": "markdown",
   "metadata": {},
   "source": [
    "Finally, the moving average with window of length 1001."
   ]
  },
  {
   "cell_type": "code",
   "execution_count": null,
   "metadata": {},
   "outputs": [],
   "source": [
    "Audio(song1_ma1001[500:-500], normalize=False, rate=44100) "
   ]
  },
  {
   "cell_type": "markdown",
   "metadata": {},
   "source": [
    "Between the plots and the sounds, what are the moving averages doing to the song file?"
   ]
  },
  {
   "cell_type": "markdown",
   "metadata": {},
   "source": []
  },
  {
   "cell_type": "markdown",
   "metadata": {},
   "source": [
    "4. Plot the spectrograms of song1 and song2."
   ]
  },
  {
   "cell_type": "code",
   "execution_count": null,
   "metadata": {},
   "outputs": [],
   "source": []
  }
 ],
 "metadata": {
  "kernelspec": {
   "display_name": "Python 3",
   "language": "python",
   "name": "python3"
  },
  "language_info": {
   "codemirror_mode": {
    "name": "ipython",
    "version": 3
   },
   "file_extension": ".py",
   "mimetype": "text/x-python",
   "name": "python",
   "nbconvert_exporter": "python",
   "pygments_lexer": "ipython3",
   "version": "3.12.2"
  }
 },
 "nbformat": 4,
 "nbformat_minor": 2
}
