{
 "cells": [
  {
   "cell_type": "markdown",
   "metadata": {},
   "source": [
    "Linear Data Lab 2\n",
    "\n",
    "Original lab written by: Emily J. King\n",
    "\n",
    "Goals: Generate one-hot encoding vectors. Interpret networks and graphs into numeric data and back. Use heatmaps to visualize arrays.\n",
    "\n",
    "Additional files needed: Linear_Data_Chapter_2_Lab.pdf"
   ]
  },
  {
   "cell_type": "markdown",
   "metadata": {},
   "source": [
    "In this lab, in addition to NumPy, we also need MatPlotLib in order to create visualizations."
   ]
  },
  {
   "cell_type": "code",
   "execution_count": null,
   "metadata": {},
   "outputs": [],
   "source": [
    "import numpy as np\n",
    "import matplotlib.pyplot as plt"
   ]
  },
  {
   "cell_type": "markdown",
   "metadata": {},
   "source": [
    "One-hot encoding vectors (called standard basis vectors in math) are vectors with all entries equal to zero except for a single entry equal to one.  Such vectors are the columns of very special matrices called identity matrices.  We will learn more about identity matrices when we learn how multiply matrices.  For now, they provide a useful short cut to make one-hot encoding vectors.\n",
    "\n",
    "Let's look at a few identity matrices."
   ]
  },
  {
   "cell_type": "code",
   "execution_count": null,
   "metadata": {},
   "outputs": [],
   "source": [
    "np.eye(2)"
   ]
  },
  {
   "cell_type": "code",
   "execution_count": null,
   "metadata": {},
   "outputs": [],
   "source": [
    "np.eye(3)"
   ]
  },
  {
   "cell_type": "code",
   "execution_count": null,
   "metadata": {},
   "outputs": [],
   "source": [
    "np.eye(4)"
   ]
  },
  {
   "cell_type": "markdown",
   "metadata": {},
   "source": [
    "So, if we wanted the one-hot encoding vectors for CIFAR-10, we would take the columns of the 10x10 identity matrix."
   ]
  },
  {
   "cell_type": "code",
   "execution_count": null,
   "metadata": {},
   "outputs": [],
   "source": [
    "E=np.eye(10)\n",
    "E[:,0]"
   ]
  },
  {
   "cell_type": "code",
   "execution_count": null,
   "metadata": {},
   "outputs": [],
   "source": [
    "E[:,1]"
   ]
  },
  {
   "cell_type": "code",
   "execution_count": null,
   "metadata": {},
   "outputs": [],
   "source": [
    "E[:,2]"
   ]
  },
  {
   "cell_type": "markdown",
   "metadata": {},
   "source": [
    "... and so on."
   ]
  },
  {
   "cell_type": "markdown",
   "metadata": {},
   "source": [
    "Now let's practice entering adjacency matrice for different type of graph/networks.  We begin with the undirected, unweighted graph we saw in lecture.  Remind yourself what it looks like by opening Linear_Data_Chapter_2_Lab.pdf.  It has the following adjacency matrix. "
   ]
  },
  {
   "cell_type": "code",
   "execution_count": null,
   "metadata": {},
   "outputs": [],
   "source": [
    "A = np.array([[0, 1, 0, 0, 1, 0], [1, 0, 1, 0, 1, 0], [0, 1, 0, 1, 0, 0], [0, 0, 1, 0, 1, 1], [1, 1, 0, 1, 0, 0], [0, 0, 0, 1, 0, 0]])\n",
    "print(A)"
   ]
  },
  {
   "cell_type": "markdown",
   "metadata": {},
   "source": [
    "Recall that the transpose of a matrix turns the rows into columns and the columns into rows. Let's transpose that above matrix. MATRIX.T is the shortest command to compute a matrix tranpose."
   ]
  },
  {
   "cell_type": "code",
   "execution_count": null,
   "metadata": {},
   "outputs": [],
   "source": [
    "A.T"
   ]
  },
  {
   "cell_type": "markdown",
   "metadata": {},
   "source": [
    "Note that these two matrices are equal."
   ]
  },
  {
   "cell_type": "code",
   "execution_count": null,
   "metadata": {},
   "outputs": [],
   "source": [
    "np.allclose(A,A.T)"
   ]
  },
  {
   "cell_type": "markdown",
   "metadata": {},
   "source": [
    "This makes sense.  The graph is undirected, meaning that if vertex i is connected to vertex j, vertex j is connected to vertex i.  That means that the (i,j) entry of the adjacency matrix is equal to the (j,i) entry and the adjacency matrix is equal to its own transpose.  When this happens, we call it a symmetric matrix."
   ]
  },
  {
   "cell_type": "markdown",
   "metadata": {},
   "source": [
    "Now we would like to view the heatmap of the adjacency matrix.  The simplest command to do this follows."
   ]
  },
  {
   "cell_type": "code",
   "execution_count": null,
   "metadata": {},
   "outputs": [],
   "source": [
    "plt.imshow(A)"
   ]
  },
  {
   "cell_type": "markdown",
   "metadata": {},
   "source": [
    "However, if we would like to add a colorbar so that we understand what numbers each of the colors stand for, we need more complicated code."
   ]
  },
  {
   "cell_type": "code",
   "execution_count": null,
   "metadata": {},
   "outputs": [],
   "source": [
    "fig, ax = plt.subplots()\n",
    "pos = ax.imshow(A)\n",
    "fig.colorbar(pos)"
   ]
  },
  {
   "cell_type": "markdown",
   "metadata": {},
   "source": [
    "Now let's practice entering the adjacency matrix of the directed, unweighted graph we saw in lecture.  Again, look at the lab's PDF to remind yourself of what it looks like.  We need to be careful about how we label the rows in columns.  Here we will use the convention that rows stand for outgoing and columns for incoming.  I.e.. if there is a edge from vertex i to vertex j, we put a 1 in (i,j)."
   ]
  },
  {
   "cell_type": "code",
   "execution_count": null,
   "metadata": {},
   "outputs": [],
   "source": [
    "ADir = np.array([[0, 1, 0, 0],[1, 0, 1, 0], [0, 0, 0, 0], [0, 0, 0, 0]])\n",
    "print(ADir)"
   ]
  },
  {
   "cell_type": "markdown",
   "metadata": {},
   "source": [
    "Note that vertex 2 is connected to vertex 3 but not vice versa.  Thus, the adjacency matrix is not symmetric."
   ]
  },
  {
   "cell_type": "code",
   "execution_count": null,
   "metadata": {},
   "outputs": [],
   "source": [
    "np.allclose(ADir,ADir.T)"
   ]
  },
  {
   "cell_type": "markdown",
   "metadata": {},
   "source": [
    "Finally, we enter the adjacency matrix of the weighted graph from Linear_Data_Chapter_2_Lab.pdf."
   ]
  },
  {
   "cell_type": "code",
   "execution_count": null,
   "metadata": {},
   "outputs": [],
   "source": [
    "AWei = np.array([[0, -0.4, 0.3], [-0.4, 0, 1.1], [0.3, 1.1, 0]])\n",
    "print(AWei)"
   ]
  },
  {
   "cell_type": "markdown",
   "metadata": {},
   "source": [
    "Since the graph is undirected, the adjacency matrix is symmetric."
   ]
  },
  {
   "cell_type": "code",
   "execution_count": null,
   "metadata": {},
   "outputs": [],
   "source": [
    "np.allclose(AWei,AWei.T)"
   ]
  },
  {
   "cell_type": "markdown",
   "metadata": {},
   "source": [
    "Exercises"
   ]
  },
  {
   "cell_type": "markdown",
   "metadata": {},
   "source": [
    "1. Enter the adjacency matrix for the unweighted, directed blue graph on 3 vertices from the lab sheet. Call the matrix A1."
   ]
  },
  {
   "cell_type": "code",
   "execution_count": null,
   "metadata": {},
   "outputs": [],
   "source": []
  },
  {
   "cell_type": "markdown",
   "metadata": {},
   "source": [
    "2. Enter the adjacency matrix for the unweighted, undirected black graph on 4 vertices from the lab sheet. Call the matrix A2."
   ]
  },
  {
   "cell_type": "code",
   "execution_count": null,
   "metadata": {},
   "outputs": [],
   "source": []
  },
  {
   "cell_type": "markdown",
   "metadata": {},
   "source": [
    "3. Enter the adjacency matrix for the weighted, undirected green graph on 5 vertices from the lab sheet. Call the matrix A3."
   ]
  },
  {
   "cell_type": "code",
   "execution_count": null,
   "metadata": {},
   "outputs": [],
   "source": []
  }
 ],
 "metadata": {
  "kernelspec": {
   "display_name": "Python 3",
   "language": "python",
   "name": "python3"
  },
  "language_info": {
   "codemirror_mode": {
    "name": "ipython",
    "version": 3
   },
   "file_extension": ".py",
   "mimetype": "text/x-python",
   "name": "python",
   "nbconvert_exporter": "python",
   "pygments_lexer": "ipython3",
   "version": "3.12.2"
  }
 },
 "nbformat": 4,
 "nbformat_minor": 2
}
