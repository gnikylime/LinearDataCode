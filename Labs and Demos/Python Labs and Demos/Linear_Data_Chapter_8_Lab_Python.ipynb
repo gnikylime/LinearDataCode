{
 "cells": [
  {
   "cell_type": "markdown",
   "metadata": {},
   "source": [
    "Linear Data Lab 8\n",
    "\n",
    "Original lab written by: Emily J. King\n",
    "\n",
    "Goals: Visualize inner product and cosine similarity. Examine how inner product and its variants (e.g., convolution, cosine similarity, correlation) can be used to compare data and extract information.\n",
    "\n",
    "Additional files needed: Linear_Data_Chapter_8_Lab.pdf, petedog-lab.png (from Module 5 Lab or another image of your own choice), autocorr.py"
   ]
  },
  {
   "cell_type": "code",
   "execution_count": null,
   "metadata": {},
   "outputs": [],
   "source": [
    "import numpy as np\n",
    "import matplotlib.pyplot as plt\n",
    "from numpy.linalg import norm\n",
    "import scipy # for image convolution\n",
    "from autocorr import autocorr # for cyclic autocorrelation"
   ]
  },
  {
   "cell_type": "markdown",
   "metadata": {},
   "source": [
    "Section 1: Visualizing inner product and cosine similarity.\n",
    "\n",
    "Go to Linear_Data_Chapter_8_Lab.pdf"
   ]
  },
  {
   "cell_type": "markdown",
   "metadata": {},
   "source": [
    "Section 2: Implementing inner product and cosine similarity.\n",
    "\n",
    "Create two random vectors x and y in R^7."
   ]
  },
  {
   "cell_type": "code",
   "execution_count": null,
   "metadata": {},
   "outputs": [],
   "source": [
    "x=np.random.rand(7)\n",
    "y=np.random.rand(7)"
   ]
  },
  {
   "cell_type": "markdown",
   "metadata": {},
   "source": [
    "Their inner product is:"
   ]
  },
  {
   "cell_type": "code",
   "execution_count": null,
   "metadata": {},
   "outputs": [],
   "source": [
    "np.dot(x,y)"
   ]
  },
  {
   "cell_type": "markdown",
   "metadata": {},
   "source": [
    "Their cosine similarity is:"
   ]
  },
  {
   "cell_type": "code",
   "execution_count": null,
   "metadata": {},
   "outputs": [],
   "source": [
    "np.dot(x/norm(x),y/norm(y))"
   ]
  },
  {
   "cell_type": "markdown",
   "metadata": {},
   "source": [
    "Note that the cosine similarity must be between -1 and 1.  Now set z=-2.7x and compute the cosine similarity of x and z."
   ]
  },
  {
   "cell_type": "code",
   "execution_count": null,
   "metadata": {},
   "outputs": [],
   "source": [
    "z = -2.7*x\n",
    "np.dot(x/norm(x),z/norm(z))"
   ]
  },
  {
   "cell_type": "markdown",
   "metadata": {},
   "source": [
    "Why does the answer make sense?  Discuss."
   ]
  },
  {
   "cell_type": "markdown",
   "metadata": {},
   "source": [
    "Section 3: Autocorrleation\n",
    "\n",
    "Let's make a random periodic vector by repeating a random pattern."
   ]
  },
  {
   "cell_type": "code",
   "execution_count": null,
   "metadata": {},
   "outputs": [],
   "source": [
    "r=np.random.rand(50)\n",
    "per=np.tile(r,10)\n",
    "plt.plot(per)"
   ]
  },
  {
   "cell_type": "markdown",
   "metadata": {},
   "source": [
    "Now let's add noise to hide the periodicity."
   ]
  },
  {
   "cell_type": "code",
   "execution_count": null,
   "metadata": {},
   "outputs": [],
   "source": [
    "nper=per+0.5*np.random.normal(0,1,np.size(per))\n",
    "plt.plot(nper)"
   ]
  },
  {
   "cell_type": "markdown",
   "metadata": {},
   "source": [
    "Now let's compute the (cyclic) autocorrelation.  (The function defined might not look like the definition of autocorrelation from the class, but it is mathematically the same and a better implentation than directly encoding the formula.)"
   ]
  },
  {
   "cell_type": "code",
   "execution_count": null,
   "metadata": {},
   "outputs": [],
   "source": [
    "NPER=autocorr(nper)\n",
    "plt.plot(NPER)"
   ]
  },
  {
   "cell_type": "markdown",
   "metadata": {},
   "source": [
    "Discuss the output."
   ]
  },
  {
   "cell_type": "markdown",
   "metadata": {},
   "source": [
    "Section 4: 2D cross-correlation / convolution\n",
    "\n",
    "Let's reload Pete Dog and look at him.  (You may also load another image of your choice by modifying the first command below.)"
   ]
  },
  {
   "cell_type": "code",
   "execution_count": null,
   "metadata": {},
   "outputs": [],
   "source": [
    "I=plt.imread('petedog-lab.png')\n",
    "plt.imshow(I)"
   ]
  },
  {
   "cell_type": "markdown",
   "metadata": {},
   "source": [
    "Let's add some noise.  Here, eta denotes the amount of noise (\"noise level\") and is a positive number where the larger the number, the more noise.  Remember that to add noise, we convert the image to double first.\n"
   ]
  },
  {
   "cell_type": "code",
   "execution_count": null,
   "metadata": {},
   "outputs": [],
   "source": [
    "eta = 0.2\n",
    "nI=I+eta*np.random.normal(0,1,size=I.shape)\n",
    "plt.imshow(nI)"
   ]
  },
  {
   "cell_type": "markdown",
   "metadata": {},
   "source": [
    "Let's apply various Gaussian blurring. Note from Scipy documentation: The default filter size is 2*round(4*sigma)+1. So setting sigma to 0.25 results in a 3x3 and to 0.5 results in a 5x5.\n",
    "\n",
    "Try sigma = 0.25, 0.5, 1, 2.5, 5."
   ]
  },
  {
   "cell_type": "code",
   "execution_count": null,
   "metadata": {},
   "outputs": [],
   "source": [
    "plt.imshow(scipy.ndimage.gaussian_filter(nI, sigma=0.25))"
   ]
  },
  {
   "cell_type": "markdown",
   "metadata": {},
   "source": [
    "Let's compute the cross correlation with the Sobel filter for horizontal edges.  For ease of visualization, we'll first convert the color image to a grayscale.  Note that scipy.ndimage.sobel(bwI, 1) yields the cross correlation of the Sobel filter for horizontal edges."
   ]
  },
  {
   "cell_type": "code",
   "execution_count": null,
   "metadata": {},
   "outputs": [],
   "source": [
    "bwI=0.2989 * I[:,:,0] + 0.5870 * I[:,:,1] + 0.1140 * I[:,:,2] \n",
    "plt.imshow(scipy.ndimage.sobel(bwI, 0),cmap='gray')"
   ]
  },
  {
   "cell_type": "markdown",
   "metadata": {},
   "source": [
    "And now for vertical edges."
   ]
  },
  {
   "cell_type": "code",
   "execution_count": null,
   "metadata": {},
   "outputs": [],
   "source": [
    "plt.imshow(scipy.ndimage.sobel(bwI, 1),cmap='gray')"
   ]
  },
  {
   "cell_type": "markdown",
   "metadata": {},
   "source": [
    "Exercises\n",
    "\n",
    "1. Which of the sigma values used in the Gaussian blurring gave the \"best\" result?  (Note: There is no correct answer here, but you must justify your answer to get any credit.)"
   ]
  },
  {
   "cell_type": "markdown",
   "metadata": {},
   "source": []
  },
  {
   "cell_type": "markdown",
   "metadata": {},
   "source": [
    "2a. Create the following image."
   ]
  },
  {
   "cell_type": "code",
   "execution_count": null,
   "metadata": {},
   "outputs": [],
   "source": [
    "A=np.hstack((np.ones([500,250]), np.zeros([500,250])))"
   ]
  },
  {
   "cell_type": "markdown",
   "metadata": {},
   "source": [
    "b. Visualize A.  (If you want grayscale visualization, use cmap='gray' as above.)"
   ]
  },
  {
   "cell_type": "code",
   "execution_count": null,
   "metadata": {},
   "outputs": [],
   "source": []
  },
  {
   "cell_type": "markdown",
   "metadata": {},
   "source": [
    "c. Choose a sigma level and perform a Gaussian filter on A. Visualize the output."
   ]
  },
  {
   "cell_type": "code",
   "execution_count": null,
   "metadata": {},
   "outputs": [],
   "source": []
  },
  {
   "cell_type": "markdown",
   "metadata": {},
   "source": [
    "d. Explain why the output of c makes sense."
   ]
  },
  {
   "cell_type": "markdown",
   "metadata": {},
   "source": []
  },
  {
   "cell_type": "markdown",
   "metadata": {},
   "source": [
    "e. Compute the cross correlation of A with the Sobel filter for horizontal edges. Visualize the output.\n"
   ]
  },
  {
   "cell_type": "code",
   "execution_count": null,
   "metadata": {},
   "outputs": [],
   "source": []
  },
  {
   "cell_type": "markdown",
   "metadata": {},
   "source": [
    "f. Explain why the output of e makes sense."
   ]
  },
  {
   "cell_type": "markdown",
   "metadata": {},
   "source": []
  },
  {
   "cell_type": "markdown",
   "metadata": {},
   "source": [
    "g. Compute the cross correlation of A with the Sobel filter for vertical edges. Visualize the output.\n"
   ]
  },
  {
   "cell_type": "code",
   "execution_count": null,
   "metadata": {},
   "outputs": [],
   "source": []
  },
  {
   "cell_type": "markdown",
   "metadata": {},
   "source": [
    "h. Explain why the output of g makes sense."
   ]
  },
  {
   "cell_type": "markdown",
   "metadata": {},
   "source": []
  },
  {
   "cell_type": "markdown",
   "metadata": {},
   "source": [
    "3. Go to Linear_Data_Chapter_8_Lab.pdf."
   ]
  }
 ],
 "metadata": {
  "kernelspec": {
   "display_name": "Python 3",
   "language": "python",
   "name": "python3"
  },
  "language_info": {
   "codemirror_mode": {
    "name": "ipython",
    "version": 3
   },
   "file_extension": ".py",
   "mimetype": "text/x-python",
   "name": "python",
   "nbconvert_exporter": "python",
   "pygments_lexer": "ipython3",
   "version": "3.12.2"
  }
 },
 "nbformat": 4,
 "nbformat_minor": 2
}
