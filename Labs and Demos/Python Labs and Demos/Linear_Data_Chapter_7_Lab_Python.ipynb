{
 "cells": [
  {
   "cell_type": "markdown",
   "metadata": {},
   "source": [
    "Linear Data Lab 7\n",
    "\n",
    "Original lab written by: Emily J. King\n",
    "\n",
    "Goals: Interpret vector addition and scalar multiplication algebraically and geometrically. Compute norm and distance. Examine how coding data as vectors and interpreting the output geometrically can be informative. Recognize the fundamental geometric linear transformations and compute their determinants. \n",
    "\n",
    "Additional file needed: Linear_Data_Chapter_7_Lab.pdf"
   ]
  },
  {
   "cell_type": "code",
   "execution_count": null,
   "metadata": {},
   "outputs": [],
   "source": [
    "import numpy as np\n",
    "from numpy.linalg import norm"
   ]
  },
  {
   "cell_type": "markdown",
   "metadata": {},
   "source": [
    "Section 1: Playing around with norm and distance.\n",
    "\n",
    "Create two random vectors x and y in R^7."
   ]
  },
  {
   "cell_type": "code",
   "execution_count": null,
   "metadata": {},
   "outputs": [],
   "source": [
    "x=np.random.rand(7)\n",
    "y=np.random.rand(7)"
   ]
  },
  {
   "cell_type": "markdown",
   "metadata": {},
   "source": [
    "Compute the norm of each vector."
   ]
  },
  {
   "cell_type": "code",
   "execution_count": null,
   "metadata": {},
   "outputs": [],
   "source": [
    "norm(x)"
   ]
  },
  {
   "cell_type": "code",
   "execution_count": null,
   "metadata": {},
   "outputs": [],
   "source": [
    "norm(y)"
   ]
  },
  {
   "cell_type": "markdown",
   "metadata": {},
   "source": [
    "Normalize each vector and call the normalized vectors nx and ny, respectively."
   ]
  },
  {
   "cell_type": "code",
   "execution_count": null,
   "metadata": {},
   "outputs": [],
   "source": [
    "nx=x/norm(x)\n",
    "ny=y/norm(y)"
   ]
  },
  {
   "cell_type": "markdown",
   "metadata": {},
   "source": [
    "Double check the norms of the normalized vectors.  What should they be?"
   ]
  },
  {
   "cell_type": "code",
   "execution_count": null,
   "metadata": {},
   "outputs": [],
   "source": [
    "norm(nx)"
   ]
  },
  {
   "cell_type": "code",
   "execution_count": null,
   "metadata": {},
   "outputs": [],
   "source": [
    "norm(ny)"
   ]
  },
  {
   "cell_type": "markdown",
   "metadata": {},
   "source": [
    "Let's test the triangle inequality for norms.  (In theory, we should account for floating point arithmetic.  In practice, random vectors x and y will never yield ||x+y|| close enough to ||x|| + ||y|| that floating point arithmetic could be an issue.)"
   ]
  },
  {
   "cell_type": "code",
   "execution_count": null,
   "metadata": {},
   "outputs": [],
   "source": [
    "np.less_equal(norm(x+y),norm(x)+norm(y))"
   ]
  },
  {
   "cell_type": "markdown",
   "metadata": {},
   "source": [
    "Now let's generate a third random vector in R^7 to test the triangle inequality on distances."
   ]
  },
  {
   "cell_type": "code",
   "execution_count": null,
   "metadata": {},
   "outputs": [],
   "source": [
    "z=np.random.rand(7)"
   ]
  },
  {
   "cell_type": "markdown",
   "metadata": {},
   "source": [
    "We first recall that the definition of the (Euclidean) distance between vectors is the (Euclidean) norm of the vector distance. I.e., dist(x,y)=norm(x-y). We implement that here."
   ]
  },
  {
   "cell_type": "code",
   "execution_count": null,
   "metadata": {},
   "outputs": [],
   "source": [
    "norm(x-y)"
   ]
  },
  {
   "cell_type": "markdown",
   "metadata": {},
   "source": [
    "So now we test the triangle inequality for distance."
   ]
  },
  {
   "cell_type": "code",
   "execution_count": null,
   "metadata": {},
   "outputs": [],
   "source": [
    "np.less_equal(norm(x-y),norm(x-z)+norm(z-y))"
   ]
  },
  {
   "cell_type": "markdown",
   "metadata": {},
   "source": [
    "Section 2: Visualizing geometry\n",
    "\n",
    "Go to Linear_Data_Chapter_7_Lab.pdf."
   ]
  },
  {
   "cell_type": "markdown",
   "metadata": {},
   "source": [
    "Section 3: Playing with word embeddings\n",
    "\n",
    "Go to Linear_Data_Chapter_7_Lab.pdf."
   ]
  },
  {
   "cell_type": "markdown",
   "metadata": {},
   "source": [
    "Section 4: Geometry of linear transformations\n",
    "\n",
    "Input the matrices from Linear_Data_Chapter_7_Lab.pdf.  \n",
    "\n",
    "Note that np.cos(np.radians()) and np.sin(np.radians()) are the Numpy commands for cosine and sine with degrees as the unit of inputs.  Also note that np.diag(vector with d entries) yields a dxd diagonal matrix with diagonal entries the entries of the vector."
   ]
  },
  {
   "cell_type": "code",
   "execution_count": null,
   "metadata": {},
   "outputs": [],
   "source": [
    "D1 = np.diag(np.array([0.5, 3]))\n",
    "D2 = np.diag(np.array([-1, -1]))\n",
    "D3 = np.diag(np.array([1, -1]))\n",
    "D4 = np.diag(np.array([0, 1]))\n",
    "R = np.array([[np.cos(np.radians(30)), -np.sin(np.radians(30))], [np.sin(np.radians(30)), np.cos(np.radians(30))]])\n",
    "S = np.array([[1, 0], [2, 1]])\n",
    "A = np.random.rand(2,2)"
   ]
  },
  {
   "cell_type": "markdown",
   "metadata": {},
   "source": [
    "Analyze D1\n",
    "\n",
    "Use Geoegebra Worksheet A to determine how multiplying by D1 changes areas.\n",
    "\n",
    "Use Geogebra Worksheet B to determine if one needs to flip out of the plane to go from the red F to the blue F.\n",
    "\n",
    "Compute the determinant of D1.  The determinant should have as absolute value the change to areas and be positive if one doesn't need to flip to go from red F to blue F (negative otherwise)."
   ]
  },
  {
   "cell_type": "code",
   "execution_count": null,
   "metadata": {},
   "outputs": [],
   "source": [
    "det(D1)"
   ]
  },
  {
   "cell_type": "markdown",
   "metadata": {},
   "source": [
    "Why does this make sense? Discuss.\n",
    "\n",
    "Is D1 invertible?  If so, what is its inverse?"
   ]
  },
  {
   "cell_type": "code",
   "execution_count": null,
   "metadata": {},
   "outputs": [],
   "source": [
    "inv(D1)"
   ]
  },
  {
   "cell_type": "markdown",
   "metadata": {},
   "source": [
    "Use Geogebra Worksheets A & B to determine what multiplying by the inverse of D1 does.  Why does this make sense?  Discuss.\n",
    "\n",
    "Since D1 is invertible, it has a trivial nullspace.  What happens when we ask Python to compute its nullspace?"
   ]
  },
  {
   "cell_type": "code",
   "execution_count": null,
   "metadata": {},
   "outputs": [],
   "source": [
    "null(D1)"
   ]
  },
  {
   "cell_type": "markdown",
   "metadata": {},
   "source": [
    "When a matrix has a trivial nullspace, Python will return a matrix with no columns when null is called."
   ]
  },
  {
   "cell_type": "markdown",
   "metadata": {},
   "source": [
    "Analyze D2\n",
    "\n",
    "Use Worksheet A to determine how multiplying by D2 changes areas.\n",
    "\n",
    "Use Worksheet B to determine if one needs to flip out of the plane to go from the red F to the blue F.\n",
    "\n",
    "Compute the determinant of D2."
   ]
  },
  {
   "cell_type": "code",
   "execution_count": null,
   "metadata": {},
   "outputs": [],
   "source": [
    "det(D2)"
   ]
  },
  {
   "cell_type": "markdown",
   "metadata": {},
   "source": [
    "Why does this make sense? Discuss.\n",
    "\n",
    "Is D2 invertible?  If so, what is its inverse?"
   ]
  },
  {
   "cell_type": "code",
   "execution_count": null,
   "metadata": {},
   "outputs": [],
   "source": [
    "inv(D2)"
   ]
  },
  {
   "cell_type": "markdown",
   "metadata": {},
   "source": [
    "Use Worksheets A & B to determine what multiplying by the inverse of D1 does.  Why does this make sense?  Discuss."
   ]
  },
  {
   "cell_type": "markdown",
   "metadata": {},
   "source": [
    "Analyze D3\n",
    "\n",
    "Use Worksheet A to determine how multiplying by D3 changes areas.\n",
    "\n",
    "Use Worksheet B to determine if one needs to flip out of the plane to go from the red F to the blue F.\n",
    "\n",
    "Compute the determinant of D3."
   ]
  },
  {
   "cell_type": "code",
   "execution_count": null,
   "metadata": {},
   "outputs": [],
   "source": [
    "det(D3)"
   ]
  },
  {
   "cell_type": "markdown",
   "metadata": {},
   "source": [
    "Why does this make sense? Discuss."
   ]
  },
  {
   "cell_type": "markdown",
   "metadata": {},
   "source": [
    "Why does this make sense? Discuss.\n",
    "\n",
    "Is D3 invertible?  If so, what is its inverse?"
   ]
  },
  {
   "cell_type": "code",
   "execution_count": null,
   "metadata": {},
   "outputs": [],
   "source": [
    "inv(D3)"
   ]
  },
  {
   "cell_type": "markdown",
   "metadata": {},
   "source": [
    "Analyze D4\n",
    "\n",
    "Use Worksheet A to determine how multiplying by D4 changes areas.\n",
    "\n",
    "Use Worksheet B to determine if one needs to flip out of the plane to go from the red F to the blue F.\n",
    "\n",
    "Compute the determinant of D4."
   ]
  },
  {
   "cell_type": "code",
   "execution_count": null,
   "metadata": {},
   "outputs": [],
   "source": [
    "det(D4)"
   ]
  },
  {
   "cell_type": "markdown",
   "metadata": {},
   "source": [
    "Why does this make sense? Discuss.\n",
    "\n",
    "Is D4 invertible?  If so, what is its inverse?"
   ]
  },
  {
   "cell_type": "code",
   "execution_count": null,
   "metadata": {},
   "outputs": [],
   "source": [
    "inv(D4)"
   ]
  },
  {
   "cell_type": "markdown",
   "metadata": {},
   "source": [
    "Why does this make sense?  Discuss."
   ]
  },
  {
   "cell_type": "markdown",
   "metadata": {},
   "source": [
    "Analyze R\n",
    "\n",
    "Use Worksheet A to determine how multiplying by R changes areas.\n",
    "\n",
    "Use Worksheet B to determine if one needs to flip out of the plane to go from the red F to the blue F.\n",
    "\n",
    "Compute the determinant of R."
   ]
  },
  {
   "cell_type": "code",
   "execution_count": null,
   "metadata": {},
   "outputs": [],
   "source": [
    "det(R)"
   ]
  },
  {
   "cell_type": "markdown",
   "metadata": {},
   "source": [
    "R is an othogonal matrix.  We can check by verifying its transpose is its inverse."
   ]
  },
  {
   "cell_type": "code",
   "execution_count": null,
   "metadata": {},
   "outputs": [],
   "source": [
    "np.allclose(R@R.T,np.eye(2))"
   ]
  },
  {
   "cell_type": "markdown",
   "metadata": {},
   "source": [
    "Analyze S\n",
    "\n",
    "Use Worksheet A to determine how multiplying by S changes areas.\n",
    "\n",
    "Use Worksheet B to determine if one needs to flip out of the plane to go from the red F to the blue F.\n",
    "\n",
    "Compute the determinant of S."
   ]
  },
  {
   "cell_type": "code",
   "execution_count": null,
   "metadata": {},
   "outputs": [],
   "source": [
    "det(S)"
   ]
  },
  {
   "cell_type": "markdown",
   "metadata": {},
   "source": [
    "Analyze A\n",
    "\n",
    "Use Worksheet A to approximately determine how multiplying by A changes areas.\n",
    "\n",
    "Use Worksheet B to determine if one needs to flip out of the plane to go from the red F to the blue F.\n",
    "\n",
    "Compute the determinant of A."
   ]
  },
  {
   "cell_type": "code",
   "execution_count": null,
   "metadata": {},
   "outputs": [],
   "source": [
    "det(A)"
   ]
  },
  {
   "cell_type": "markdown",
   "metadata": {},
   "source": [
    "Analyze R*D1*R^(-1)\n",
    "\n",
    "Define M to be R*D1*R^(-1)"
   ]
  },
  {
   "cell_type": "code",
   "execution_count": null,
   "metadata": {},
   "outputs": [],
   "source": [
    "M=R@D1@inv(R)"
   ]
  },
  {
   "cell_type": "markdown",
   "metadata": {},
   "source": [
    "Use Worksheet A to determine how multiplying by M changes areas.  Why does this make sense?  Discuss.\n",
    "\n",
    "Use Worksheet B to determine if one needs to flip out of the plane to go from the red F to the blue F.\n",
    "\n",
    "Compute the determinant of M."
   ]
  },
  {
   "cell_type": "code",
   "execution_count": null,
   "metadata": {},
   "outputs": [],
   "source": [
    "det(M)"
   ]
  },
  {
   "cell_type": "markdown",
   "metadata": {},
   "source": [
    "Exercises\n",
    "\n",
    "1a. Generate a random vector v with 1000 entries."
   ]
  },
  {
   "cell_type": "code",
   "execution_count": null,
   "metadata": {},
   "outputs": [],
   "source": []
  },
  {
   "cell_type": "markdown",
   "metadata": {},
   "source": [
    "b. Create a new vector u that points in the exact opposite direction as v but has norm 2."
   ]
  },
  {
   "cell_type": "code",
   "execution_count": null,
   "metadata": {},
   "outputs": [],
   "source": []
  },
  {
   "cell_type": "markdown",
   "metadata": {},
   "source": [
    "2. Go to Linear_Data_Chapter_7_Lab.pdf.\n",
    "3. Go to Linear_Data_Chapter_7_Lab.pdf."
   ]
  },
  {
   "cell_type": "markdown",
   "metadata": {},
   "source": [
    "4a. Let B be a random 5x5 matrix.\n"
   ]
  },
  {
   "cell_type": "code",
   "execution_count": null,
   "metadata": {},
   "outputs": [],
   "source": []
  },
  {
   "cell_type": "markdown",
   "metadata": {},
   "source": [
    "b. Calculate the determinant of B.\n"
   ]
  },
  {
   "cell_type": "code",
   "execution_count": null,
   "metadata": {},
   "outputs": [],
   "source": []
  },
  {
   "cell_type": "markdown",
   "metadata": {},
   "source": [
    "c. If there is a set of point in R^5 with hypervolume 1, what is the new hypervolume if you multiply each point by B?\n"
   ]
  },
  {
   "cell_type": "markdown",
   "metadata": {},
   "source": []
  }
 ],
 "metadata": {
  "kernelspec": {
   "display_name": "Python 3",
   "language": "python",
   "name": "python3"
  },
  "language_info": {
   "codemirror_mode": {
    "name": "ipython",
    "version": 3
   },
   "file_extension": ".py",
   "mimetype": "text/x-python",
   "name": "python",
   "nbconvert_exporter": "python",
   "pygments_lexer": "ipython3",
   "version": "3.12.2"
  }
 },
 "nbformat": 4,
 "nbformat_minor": 2
}
