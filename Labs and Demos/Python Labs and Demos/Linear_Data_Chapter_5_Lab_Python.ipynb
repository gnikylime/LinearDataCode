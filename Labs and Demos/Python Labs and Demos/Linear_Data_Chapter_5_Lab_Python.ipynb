{
 "cells": [
  {
   "cell_type": "markdown",
   "metadata": {},
   "source": [
    "Linear Data Lab 5\n",
    "\n",
    "Original lab written by: Emily J. King\n",
    "\n",
    "Goals: Apply linear combinations of (image) signal data. Implement linear transformations as matrix-vector multiplication: Understand parallizability of matrix multiplication. Show non-commutativity. See what the identity matrix does. Explore inveribility and non-invertibility.  Understand applications of matrix multiplication in understanding graph structure.\n",
    "\n",
    "Additional files needed: petedog-lab.png and lineum-lab.png in the same folder as this ipynb file or the path.\n",
    "Also have Linear_Data_Chapter_2_Lab.pdf from lab 2 handy."
   ]
  },
  {
   "cell_type": "code",
   "execution_count": null,
   "metadata": {},
   "outputs": [],
   "source": [
    "import numpy as np\n",
    "import matplotlib.pyplot as plt\n",
    "from numpy import linalg as LA # some special linear algebra functions"
   ]
  },
  {
   "cell_type": "markdown",
   "metadata": {},
   "source": [
    "Section 1: Image processing\n",
    "\n",
    "Importing images.  \n",
    "\n",
    "It's possible to use your own images by changing out the filename.  A few things to note\n",
    "1. Matplotlib now suggests using a different command, but then you will need to install an additional package. https://pillow.readthedocs.io/en/stable/reference/Image.html#PIL.Image.open\n",
    "In any case, plt.imread still works.  \n",
    "2. If you want to compute linear combinations of your own images, make sure that they are the same size as each other.  It's possible to crop the images in Python so that they are the same size.  (See, e.g., Lab 1.)"
   ]
  },
  {
   "cell_type": "code",
   "execution_count": null,
   "metadata": {},
   "outputs": [],
   "source": [
    "P=plt.imread('petedog-lab.png')\n",
    "L=plt.imread('lineum-lab.png')"
   ]
  },
  {
   "cell_type": "markdown",
   "metadata": {},
   "source": [
    "Visualizing the images."
   ]
  },
  {
   "cell_type": "code",
   "execution_count": null,
   "metadata": {},
   "outputs": [],
   "source": [
    "plt.imshow(P)"
   ]
  },
  {
   "cell_type": "code",
   "execution_count": null,
   "metadata": {},
   "outputs": [],
   "source": [
    "plt.imshow(L)"
   ]
  },
  {
   "cell_type": "markdown",
   "metadata": {},
   "source": [
    "Looking at the format of the arrays."
   ]
  },
  {
   "cell_type": "code",
   "execution_count": null,
   "metadata": {},
   "outputs": [],
   "source": [
    "print(\"Pete Dog's picture's array shape is\",P.shape,\"with entries of type\",P.dtype)\n",
    "print(\"Lineum's picture's array shape is\",L.shape,\"with entries of type\",L.dtype)"
   ]
  },
  {
   "cell_type": "markdown",
   "metadata": {},
   "source": [
    "The fact that the entries are floats tells us that the values are between 0 and 1.  Let's check."
   ]
  },
  {
   "cell_type": "code",
   "execution_count": null,
   "metadata": {},
   "outputs": [],
   "source": [
    "print(\"The maximum value of Pete Dog's picture's array is\",np.max(P),\"while the minimum is\",np.min(P),\".\")\n",
    "print(\"The maximum value of Lineum's picture's array is\",np.max(L),\"while the minimum is\",np.min(L),\".\")"
   ]
  },
  {
   "cell_type": "markdown",
   "metadata": {},
   "source": [
    "Let's visualize a linear combination of the images."
   ]
  },
  {
   "cell_type": "code",
   "execution_count": null,
   "metadata": {},
   "outputs": [],
   "source": [
    "a=0.5\n",
    "b=0.5\n",
    "plt.imshow(a*P+b*L)"
   ]
  },
  {
   "cell_type": "markdown",
   "metadata": {},
   "source": [
    "What happens?  Discuss what you see. Try different values for a and b and look at the output.\n",
    "\n",
    "Now let's play around with color."
   ]
  },
  {
   "cell_type": "code",
   "execution_count": null,
   "metadata": {},
   "outputs": [],
   "source": [
    "newP=np.copy(P) # copy is necessary so that the values aren't linked\n",
    "newP[:,:,2]=2*newP[:,:,2]\n",
    "plt.imshow(newP)"
   ]
  },
  {
   "cell_type": "markdown",
   "metadata": {},
   "source": [
    "As a reminder, the original image looked like:"
   ]
  },
  {
   "cell_type": "code",
   "execution_count": null,
   "metadata": {},
   "outputs": [],
   "source": [
    "plt.imshow(P)"
   ]
  },
  {
   "cell_type": "markdown",
   "metadata": {},
   "source": [
    "What happened?  Discuss what you see.\n",
    "\n",
    "Let's repeat the same modification."
   ]
  },
  {
   "cell_type": "code",
   "execution_count": null,
   "metadata": {},
   "outputs": [],
   "source": [
    "newP[:,:,2]=2*newP[:,:,2]\n",
    "plt.imshow(newP)"
   ]
  },
  {
   "cell_type": "markdown",
   "metadata": {},
   "source": [
    "Again, discuss what happened."
   ]
  },
  {
   "cell_type": "markdown",
   "metadata": {},
   "source": [
    "Section 2: Understanding Matrix-Vector and Matrix-Matrix Multiplication\n",
    "\n",
    "WARNING: * IS NOT matrix-matrix / matrix-vector multiplication in Python!!!!!!!  This is a different operation all together (called a Hadamard product).  The correct operator is @.\n",
    "\n",
    "We're going to play around with the following five matrices:"
   ]
  },
  {
   "cell_type": "code",
   "execution_count": null,
   "metadata": {},
   "outputs": [],
   "source": [
    "A=np.array([[3, 0, 0], [0, -1, 0], [0, 0, 0.5]])\n",
    "print('A is\\n',A)\n",
    "B=np.array([[1, 0, 2], [0, 1, 0], [0, 0, 1]])\n",
    "print('B is\\n',B)\n",
    "C=np.ones([3,3])\n",
    "print('C is\\n',C)\n",
    "I=np.eye(3)\n",
    "print('I is\\n',I)\n",
    "R=np.random.rand(3,3)\n",
    "print('R is\\n',R)"
   ]
  },
  {
   "cell_type": "markdown",
   "metadata": {},
   "source": [
    "The command above np.eye(n) will make an nxn matrix with ones where i=j and zeroes everywhere else.  It's called \"eye\" because such matrices are typically denoted with a capital letter 'I'.\n",
    "\n",
    "Parallelizability\n",
    "\n",
    "Let's compute BR. "
   ]
  },
  {
   "cell_type": "code",
   "execution_count": null,
   "metadata": {},
   "outputs": [],
   "source": [
    "B@R"
   ]
  },
  {
   "cell_type": "markdown",
   "metadata": {},
   "source": [
    "Now let's compute B times the first column of R. Note that Python will present this as a 1D array displayed horizontally, but you should read it as a column vector."
   ]
  },
  {
   "cell_type": "code",
   "execution_count": null,
   "metadata": {},
   "outputs": [],
   "source": [
    "B@R[:,0]"
   ]
  },
  {
   "cell_type": "markdown",
   "metadata": {},
   "source": [
    "It is possible to force Python to show the output as a column vector, but we must add a valence:"
   ]
  },
  {
   "cell_type": "code",
   "execution_count": null,
   "metadata": {},
   "outputs": [],
   "source": [
    "(B@R[:,0])[:, np.newaxis]"
   ]
  },
  {
   "cell_type": "markdown",
   "metadata": {},
   "source": [
    "To aid with visualization, we will also display the following products as columns.  Now B times the second column of R."
   ]
  },
  {
   "cell_type": "code",
   "execution_count": null,
   "metadata": {},
   "outputs": [],
   "source": [
    "(B@R[:,1])[:, np.newaxis]"
   ]
  },
  {
   "cell_type": "markdown",
   "metadata": {},
   "source": [
    "And B times the third column of R."
   ]
  },
  {
   "cell_type": "code",
   "execution_count": null,
   "metadata": {},
   "outputs": [],
   "source": [
    "(B@R[:,2])[:, np.newaxis]"
   ]
  },
  {
   "cell_type": "markdown",
   "metadata": {},
   "source": [
    "What do you notice?  Why does this match what we've seen in lecture?\n",
    "\n",
    "Similarly, let's compute the first row of B times R.  Since the mathematical output is a row and Python displays 1D arrays as rows be default, we won't need to manipulate the output to aid in visualization."
   ]
  },
  {
   "cell_type": "code",
   "execution_count": null,
   "metadata": {},
   "outputs": [],
   "source": [
    "B[0,:]@R"
   ]
  },
  {
   "cell_type": "markdown",
   "metadata": {},
   "source": [
    "And the second row of B times R."
   ]
  },
  {
   "cell_type": "code",
   "execution_count": null,
   "metadata": {},
   "outputs": [],
   "source": [
    "B[1,:]@R"
   ]
  },
  {
   "cell_type": "markdown",
   "metadata": {},
   "source": [
    "And the third."
   ]
  },
  {
   "cell_type": "code",
   "execution_count": null,
   "metadata": {},
   "outputs": [],
   "source": [
    "B[2,:]@R"
   ]
  },
  {
   "cell_type": "markdown",
   "metadata": {},
   "source": [
    "What do you notice?  Why does this match what we've seen in lecture?\n",
    "\n",
    "Identity\n",
    "\n",
    "Let's compute AI and IA.  "
   ]
  },
  {
   "cell_type": "code",
   "execution_count": null,
   "metadata": {},
   "outputs": [],
   "source": [
    "A@I"
   ]
  },
  {
   "cell_type": "code",
   "execution_count": null,
   "metadata": {},
   "outputs": [],
   "source": [
    "I@A"
   ]
  },
  {
   "cell_type": "markdown",
   "metadata": {},
   "source": [
    "Now, let's compare BI and B."
   ]
  },
  {
   "cell_type": "code",
   "execution_count": null,
   "metadata": {},
   "outputs": [],
   "source": [
    "np.allclose(B@I,B)"
   ]
  },
  {
   "cell_type": "markdown",
   "metadata": {},
   "source": [
    "Finally, let's compare IR and R."
   ]
  },
  {
   "cell_type": "code",
   "execution_count": null,
   "metadata": {},
   "outputs": [],
   "source": [
    "np.allclose(I@R,R)"
   ]
  },
  {
   "cell_type": "markdown",
   "metadata": {},
   "source": [
    "What seems to be happening each time?  Discuss."
   ]
  },
  {
   "cell_type": "markdown",
   "metadata": {},
   "source": [
    "Non-commutativity\n",
    "\n",
    "Changing the order of multiplication when one of the matrices was I above didn't change the output.  But let's try some other pairs.  "
   ]
  },
  {
   "cell_type": "code",
   "execution_count": null,
   "metadata": {},
   "outputs": [],
   "source": [
    "np.allclose(A@B,B@A)"
   ]
  },
  {
   "cell_type": "markdown",
   "metadata": {},
   "source": [
    "And a different pair."
   ]
  },
  {
   "cell_type": "code",
   "execution_count": null,
   "metadata": {},
   "outputs": [],
   "source": [
    "np.allclose(C@R,R@C)"
   ]
  },
  {
   "cell_type": "markdown",
   "metadata": {},
   "source": [
    "What happened?  Can we always switch the order of multiplication?"
   ]
  },
  {
   "cell_type": "markdown",
   "metadata": {},
   "source": [
    "Non-invertibility\n",
    "\n",
    "We'll multiply C times a number of vectors.  This time we won't restructure them to visualize them as column vectors."
   ]
  },
  {
   "cell_type": "code",
   "execution_count": null,
   "metadata": {},
   "outputs": [],
   "source": [
    "C@np.array([1,0,0])"
   ]
  },
  {
   "cell_type": "code",
   "execution_count": null,
   "metadata": {},
   "outputs": [],
   "source": [
    "C@np.array([0,1,0])"
   ]
  },
  {
   "cell_type": "code",
   "execution_count": null,
   "metadata": {},
   "outputs": [],
   "source": [
    "C@np.array([0,0,1])"
   ]
  },
  {
   "cell_type": "code",
   "execution_count": null,
   "metadata": {},
   "outputs": [],
   "source": [
    "C@np.array([1./3,1/3,1/3])"
   ]
  },
  {
   "cell_type": "markdown",
   "metadata": {},
   "source": [
    "Say I had a function f:R^3 -> R^3 that multiplied column vectors with 3 entries on the right by C, i.e. f(x) = Cx.  If I know that for some y that f(y) is the all-ones vector, do I know what y was?  Can I say anything about y?  Discuss."
   ]
  },
  {
   "cell_type": "markdown",
   "metadata": {},
   "source": [
    "Let's try to compute the inverse of C."
   ]
  },
  {
   "cell_type": "code",
   "execution_count": null,
   "metadata": {},
   "outputs": [],
   "source": [
    "LA.inv(C)"
   ]
  },
  {
   "cell_type": "markdown",
   "metadata": {},
   "source": [
    "Notice that an error was returned: \"singular matrix\", which is a synonym of \"non-invertible matrix\".  Now let's try to invert a different matrix."
   ]
  },
  {
   "cell_type": "code",
   "execution_count": null,
   "metadata": {},
   "outputs": [],
   "source": [
    "LA.inv(R)"
   ]
  },
  {
   "cell_type": "markdown",
   "metadata": {},
   "source": [
    "R is invertible; so, the computer returns the inverse."
   ]
  },
  {
   "cell_type": "markdown",
   "metadata": {},
   "source": [
    "Section 3: Applications to adjacency matrices.\n",
    "\n",
    "We now re-enter the adjacency matrix of the graph from lecture and Lab 2.  (See the image on Linear_Data_Chapter_2_Lab.pdf to refresh your memory.)"
   ]
  },
  {
   "cell_type": "code",
   "execution_count": null,
   "metadata": {},
   "outputs": [],
   "source": [
    "A = np.array([[0, 1, 0, 0, 1, 0], [1, 0, 1, 0, 1, 0], [0, 1, 0, 1, 0, 0], [0, 0, 1, 0, 1, 1], [1, 1, 0, 1, 0, 0], [0, 0, 0, 1, 0, 0]])\n",
    "print(A)"
   ]
  },
  {
   "cell_type": "markdown",
   "metadata": {},
   "source": [
    "Now we multiply the adjacency matrix times the vector of all ones with six entries."
   ]
  },
  {
   "cell_type": "code",
   "execution_count": null,
   "metadata": {},
   "outputs": [],
   "source": [
    "A@np.ones(6)"
   ]
  },
  {
   "cell_type": "markdown",
   "metadata": {},
   "source": [
    "Look at the picture of the graph.  What does that list of numbers tell us about the graph?  Discuss.\n",
    "\n",
    "Now we multiply A by itself."
   ]
  },
  {
   "cell_type": "code",
   "execution_count": null,
   "metadata": {},
   "outputs": [],
   "source": [
    "A@A"
   ]
  },
  {
   "cell_type": "markdown",
   "metadata": {},
   "source": [
    "Raising a square matrix to a positive integer power is defined as multiplying the matrix by itself the number of times of the power.  \n",
    "\n",
    "WARNING: Just as * isn't matrix multiplication in Python, ** isn't matrix exponentiation in Python!"
   ]
  },
  {
   "cell_type": "code",
   "execution_count": null,
   "metadata": {},
   "outputs": [],
   "source": [
    "np.allclose(A@A, LA.matrix_power(A,2))"
   ]
  },
  {
   "cell_type": "markdown",
   "metadata": {},
   "source": [
    "What do you think the entries of A^2 for A an adjacency matrix means?  Note here it is important to convert the Python index starting at 0 to an index starting at 1 in our discussion since the rows and columns correspond to numbered vertices.\n",
    "\n",
    "For example, the (1,1) entry of A^2 is 2, and the (1,2) entry of A^2 is 1.  What property of the first vertex with itself occurs twice and with the third and fourth occurs three times?  "
   ]
  },
  {
   "cell_type": "markdown",
   "metadata": {},
   "source": [
    "Note that there are two different walks of length (i.e., number of edges) two that start at vertex 1 and end at vertex 1: 1->2->1 or 1->5->1.  Similarly, the number of walks of length two between vertices 1 and 2 is one: 1->5->2. However, there are no ways to walk two steps to get from 1 to 6.  \n",
    "\n",
    "It ends up that the (i,j)-entry of A^2 for A an adjacency matrix always tells you the number of walks of length two between vertices i and j.  Discuss why you think this is the case.\n",
    "\n",
    "Now let's compute A^3."
   ]
  },
  {
   "cell_type": "code",
   "execution_count": null,
   "metadata": {},
   "outputs": [],
   "source": [
    "LA.matrix_power(A,3)"
   ]
  },
  {
   "cell_type": "markdown",
   "metadata": {},
   "source": [
    "Discuss what you see.  "
   ]
  },
  {
   "cell_type": "markdown",
   "metadata": {},
   "source": [
    "Exercises\n",
    "\n",
    "1. a. Modify the Lineum picture to halve the amount of red."
   ]
  },
  {
   "cell_type": "code",
   "execution_count": null,
   "metadata": {},
   "outputs": [],
   "source": []
  },
  {
   "cell_type": "markdown",
   "metadata": {},
   "source": [
    "b. Now visualize the new image."
   ]
  },
  {
   "cell_type": "code",
   "execution_count": null,
   "metadata": {},
   "outputs": [],
   "source": []
  },
  {
   "cell_type": "markdown",
   "metadata": {},
   "source": [
    "c. Now take the modified image and double the amount of green."
   ]
  },
  {
   "cell_type": "code",
   "execution_count": null,
   "metadata": {},
   "outputs": [],
   "source": []
  },
  {
   "cell_type": "markdown",
   "metadata": {},
   "source": [
    "d. Now visualize the new image."
   ]
  },
  {
   "cell_type": "code",
   "execution_count": null,
   "metadata": {},
   "outputs": [],
   "source": []
  },
  {
   "cell_type": "markdown",
   "metadata": {},
   "source": [
    "2. a. Take the adjacency matrices A1, A2, and A3 that you created for Lab 2 and reinput them here."
   ]
  },
  {
   "cell_type": "code",
   "execution_count": null,
   "metadata": {},
   "outputs": [],
   "source": []
  },
  {
   "cell_type": "markdown",
   "metadata": {},
   "source": [
    "b. Raise each of the matrices to the 4th power."
   ]
  },
  {
   "cell_type": "code",
   "execution_count": null,
   "metadata": {},
   "outputs": [],
   "source": []
  },
  {
   "cell_type": "code",
   "execution_count": null,
   "metadata": {},
   "outputs": [],
   "source": []
  },
  {
   "cell_type": "code",
   "execution_count": null,
   "metadata": {},
   "outputs": [],
   "source": []
  },
  {
   "cell_type": "markdown",
   "metadata": {},
   "source": [
    "c. Interpret the output."
   ]
  },
  {
   "cell_type": "markdown",
   "metadata": {},
   "source": []
  }
 ],
 "metadata": {
  "kernelspec": {
   "display_name": "Python 3",
   "language": "python",
   "name": "python3"
  },
  "language_info": {
   "codemirror_mode": {
    "name": "ipython",
    "version": 3
   },
   "file_extension": ".py",
   "mimetype": "text/x-python",
   "name": "python",
   "nbconvert_exporter": "python",
   "pygments_lexer": "ipython3",
   "version": "3.12.2"
  }
 },
 "nbformat": 4,
 "nbformat_minor": 2
}
