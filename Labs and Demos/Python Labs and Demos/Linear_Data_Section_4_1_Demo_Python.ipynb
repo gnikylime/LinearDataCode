{
 "cells": [
  {
   "cell_type": "markdown",
   "id": "535e1ab8",
   "metadata": {},
   "source": [
    "Sound as linear information\n",
    "\n",
    "Original lab written by: Emily J. King\n",
    "\n",
    "Goals: Code to understand digital pure tones and digital songs as vectors and how basic linear operations affect their sounds.\n",
    "\n",
    "Additional files needed: LinearDatasound.npz, \n",
    "in the same folder as this ipynb file or in the path. \n",
    "\n",
    "NOTE: Due to multiple song files being played, do not use \"run all\"."
   ]
  },
  {
   "cell_type": "code",
   "execution_count": null,
   "id": "24a7828b",
   "metadata": {},
   "outputs": [],
   "source": [
    "import numpy as np\n",
    "import matplotlib.pyplot as plt\n",
    "from IPython.display import Audio # needed to play audio"
   ]
  },
  {
   "cell_type": "markdown",
   "id": "c95a8eff",
   "metadata": {},
   "source": [
    "We saw in a previous lab (Chapter_3_Lab) how to visualize vectors as function plots. Let's recall what this looking like because we will use this visualization a lot here."
   ]
  },
  {
   "cell_type": "code",
   "execution_count": null,
   "id": "02c164e4",
   "metadata": {},
   "outputs": [],
   "source": [
    "a=np.array([1, 3, -1, -2, 4, 3])\n",
    "plt.plot(a,'-o')"
   ]
  },
  {
   "cell_type": "markdown",
   "id": "8d64a889",
   "metadata": {},
   "source": [
    "We are now about to use that same type of visualization for a vector with 1000 entries.  This vector consists of evenly spaced points from (called \"sampling\") a sine function.  Why a sine function?  Because sounds are made up of linear combinations of sine waves."
   ]
  },
  {
   "cell_type": "code",
   "execution_count": null,
   "id": "2eada35e",
   "metadata": {},
   "outputs": [],
   "source": [
    "fs = 44100\n",
    "freq = 200\n",
    "pure=np.sin(2*np.pi*np.arange(1, fs + 1)/(fs/freq))\n",
    "plt.plot(pure[:1000])"
   ]
  },
  {
   "cell_type": "markdown",
   "id": "a861480e",
   "metadata": {},
   "source": [
    "Now we are going to literally listen to that vector, which encodes a pure tone.\n"
   ]
  },
  {
   "cell_type": "code",
   "execution_count": null,
   "id": "9cdf93d2",
   "metadata": {},
   "outputs": [],
   "source": [
    "Audio(pure, normalize=False, rate=fs) "
   ]
  },
  {
   "cell_type": "markdown",
   "id": "1c2c172a",
   "metadata": {},
   "source": [
    "Next, we will scale the vector by scalar multiplying with 0.25.  What do you think will happen?"
   ]
  },
  {
   "cell_type": "code",
   "execution_count": null,
   "id": "aa68c3a9",
   "metadata": {},
   "outputs": [],
   "source": [
    "plt.plot(0.25 * pure[:1000])\n",
    "plt.ylim([-1, 1])\n",
    "plt.show()"
   ]
  },
  {
   "cell_type": "markdown",
   "id": "7ffa5e0e",
   "metadata": {},
   "source": [
    "What do you think the scalar multiple will sound like?\n"
   ]
  },
  {
   "cell_type": "code",
   "execution_count": null,
   "id": "49ac4c77",
   "metadata": {},
   "outputs": [],
   "source": [
    "Audio(0.25*pure, normalize=False, rate=fs) "
   ]
  },
  {
   "cell_type": "markdown",
   "id": "d2a8b208",
   "metadata": {},
   "source": [
    "What do you think will happen if we scalar multiply by other positive scalars?"
   ]
  },
  {
   "cell_type": "markdown",
   "id": "d47320ac",
   "metadata": {},
   "source": [
    "Now let's create a vector of another pure tone, this one with a different frequency (\"bounciness\")."
   ]
  },
  {
   "cell_type": "code",
   "execution_count": null,
   "id": "9833fb73",
   "metadata": {},
   "outputs": [],
   "source": [
    "freq2 = 500\n",
    "pure2=np.sin(2*np.pi*np.arange(1, fs + 1)/(fs/freq2))\n",
    "plt.plot(pure2[:1000])"
   ]
  },
  {
   "cell_type": "markdown",
   "id": "4895745c",
   "metadata": {},
   "source": [
    "How does this sound different than the other vector of the pure tone?"
   ]
  },
  {
   "cell_type": "code",
   "execution_count": null,
   "id": "c48069dc",
   "metadata": {},
   "outputs": [],
   "source": [
    "Audio(pure2, normalize=False, rate=fs) "
   ]
  },
  {
   "cell_type": "markdown",
   "id": "ba6fefb2",
   "metadata": {},
   "source": [
    "And what happens when we add the vectors?\n"
   ]
  },
  {
   "cell_type": "code",
   "execution_count": null,
   "id": "7cbf93a4",
   "metadata": {},
   "outputs": [],
   "source": [
    "plt.plot(pure[:1000]+pure2[:1000])"
   ]
  },
  {
   "cell_type": "markdown",
   "id": "7a769e5c",
   "metadata": {},
   "source": [
    "What do you think the vector addition will sound like?"
   ]
  },
  {
   "cell_type": "code",
   "execution_count": null,
   "id": "cf8b2e94",
   "metadata": {},
   "outputs": [],
   "source": [
    "Audio(pure+pure2, rate=fs) "
   ]
  },
  {
   "cell_type": "markdown",
   "id": "4e5b7565",
   "metadata": {},
   "source": [
    "And now what happens if we multiply each entry by -1?"
   ]
  },
  {
   "cell_type": "code",
   "execution_count": null,
   "id": "e986e497",
   "metadata": {},
   "outputs": [],
   "source": [
    "plt.plot(pure[:1000], label='pure')\n",
    "plt.plot(-pure[:1000], label='-pure')\n",
    "plt.legend()\n",
    "plt.show()"
   ]
  },
  {
   "cell_type": "markdown",
   "id": "77883784",
   "metadata": {},
   "source": [
    "What do you think the negation will sound like?\n"
   ]
  },
  {
   "cell_type": "code",
   "execution_count": null,
   "id": "fa41cb17",
   "metadata": {},
   "outputs": [],
   "source": [
    "Audio(-pure, normalize=False, rate=fs) "
   ]
  },
  {
   "cell_type": "markdown",
   "id": "c2435e7f",
   "metadata": {},
   "source": [
    "Both the pure tone and its negation should sound really similar.  This makes sense as they have the exact same \"bounciness\".  (If you remember trig identities, since they are coming from sine waves, they are shifts of each other.)"
   ]
  },
  {
   "cell_type": "markdown",
   "id": "9180d434",
   "metadata": {},
   "source": [
    "Why might negation be useful? Let's listen to what happens when we use vector addtion to add the pure tone and its negation."
   ]
  },
  {
   "cell_type": "code",
   "execution_count": null,
   "id": "0c241fb8",
   "metadata": {},
   "outputs": [],
   "source": [
    "Audio(pure+(-pure), normalize=False, rate=fs) "
   ]
  },
  {
   "cell_type": "code",
   "execution_count": null,
   "id": "6b1f35a4",
   "metadata": {},
   "outputs": [],
   "source": [
    "plt.plot(pure[:1000]+(-pure[:1000]), label='pure')"
   ]
  },
  {
   "cell_type": "markdown",
   "id": "c8b65cfb",
   "metadata": {},
   "source": [
    "What's going on?  We've already seen algebraically that for ANY vector, adding it to its scalar multiple by -1 results in the zero vector.  This is essentially how noise cancelling headphone work: the background noise is estimated and the negation of it is generated to cancel it out.  Since it is easier to estimate sounds that are repeated (e.g., the constant drone inside an airplane), those sounds are more easily cancelled."
   ]
  },
  {
   "cell_type": "markdown",
   "id": "1d06d61e",
   "metadata": {},
   "source": [
    "Speaking of noise, let us generate an example of what is called \"noise\" in signal processing.  The 0.1 factor is to make it small enough to just disrupt the  but not overpower the pure tone when we later mix them."
   ]
  },
  {
   "cell_type": "code",
   "execution_count": null,
   "id": "a32ab583",
   "metadata": {},
   "outputs": [],
   "source": [
    "noise = 0.1 * np.random.randn(*pure.shape)\n",
    "plt.plot(noise[:1000])"
   ]
  },
  {
   "cell_type": "markdown",
   "id": "e8c8fb17",
   "metadata": {},
   "source": [
    "Now, let's mix the pure tone and the noise using vector addition.\n"
   ]
  },
  {
   "cell_type": "code",
   "execution_count": null,
   "id": "b1e55fae",
   "metadata": {},
   "outputs": [],
   "source": [
    "plt.plot(pure[:1000]+noise[:1000])"
   ]
  },
  {
   "cell_type": "code",
   "execution_count": null,
   "id": "5f1fe88e",
   "metadata": {},
   "outputs": [],
   "source": [
    "Audio(pure+noise, rate=fs) "
   ]
  },
  {
   "cell_type": "markdown",
   "id": "dfa2b85e",
   "metadata": {},
   "source": [
    "Now, we are switching from pure tones to actual song recordings.  The vectors have a million and one entries each.  We will plot the first half million.\n",
    "\n",
    "These (and many digital songs that you listen to) are actually two vectors (channels), basically one vector for your left headphone and another for your right.  We plot both vectors for the first song so you can see that they are similar.  And then will only plot one subsequently.  However, all of the linear operations will be performed on both channels."
   ]
  },
  {
   "cell_type": "code",
   "execution_count": null,
   "id": "3c6078e8",
   "metadata": {},
   "outputs": [],
   "source": [
    "npzfile=np.load('LinearDatasound.npz')\n",
    "locals().update(npzfile)\n",
    "fs = 44100 # sampling rate\n",
    "L = 1000001"
   ]
  },
  {
   "cell_type": "markdown",
   "id": "28aebb37",
   "metadata": {},
   "source": [
    "Song credits:\n",
    "\n",
    "x = clip from King Gizzard and the Lizard Wizard - Flightless Records - 2017\n",
    "y = clip from Björk - Hunter - OLI Records - 1998\n",
    "z = clip from Black Star - Definition - Rawkus Records - 1999\n",
    "u = clip from Johnny Cash - So Doggone Lonesome - Sun Records - 1955\n",
    "v = clip from Vicente Fernández - Guadalajara (remasterizado) - 2006"
   ]
  },
  {
   "cell_type": "code",
   "execution_count": null,
   "id": "eb409cfd",
   "metadata": {},
   "outputs": [],
   "source": [
    "plt.plot(x)   \n",
    "plt.xlim([1, L])\n",
    "plt.legend(['Left channel', 'Right channel'])\n",
    "plt.show()"
   ]
  },
  {
   "cell_type": "markdown",
   "id": "36ddc023",
   "metadata": {},
   "source": [
    "Let's listen to the song.  "
   ]
  },
  {
   "cell_type": "code",
   "execution_count": null,
   "id": "0ea12840",
   "metadata": {},
   "outputs": [],
   "source": [
    "Audio(x.T, normalize=False, rate=fs) "
   ]
  },
  {
   "cell_type": "markdown",
   "id": "e09ae8b0",
   "metadata": {},
   "source": [
    "Note that the second input in the sound function is telling Python how quickly to play the vector, which represents measurements over time, here in CD quality (44.1 kHz)."
   ]
  },
  {
   "cell_type": "markdown",
   "id": "982f50b4",
   "metadata": {},
   "source": [
    "What do you think will happen if we scalar multiply the song vector by 0.25?"
   ]
  },
  {
   "cell_type": "code",
   "execution_count": null,
   "id": "bf01367e",
   "metadata": {},
   "outputs": [],
   "source": [
    "Audio(0.25*x.T, normalize=False, rate=fs) "
   ]
  },
  {
   "cell_type": "markdown",
   "id": "4de8005c",
   "metadata": {},
   "source": [
    "What do you think 4x will sound like?  (Due to Python/Jupyter's Audio command restrictions, we can't listen to scalar multiples of sounds with scalar larger than 1.)"
   ]
  },
  {
   "cell_type": "markdown",
   "id": "02483a36",
   "metadata": {},
   "source": [
    "Now let's listen to a song from a very different genre."
   ]
  },
  {
   "cell_type": "code",
   "execution_count": null,
   "id": "24b3c93c",
   "metadata": {},
   "outputs": [],
   "source": [
    "Audio(z.T, normalize=False, rate=fs) "
   ]
  },
  {
   "cell_type": "markdown",
   "id": "b6119f5a",
   "metadata": {},
   "source": [
    "And compare the plot of the song vector."
   ]
  },
  {
   "cell_type": "code",
   "execution_count": null,
   "id": "d87498f6",
   "metadata": {},
   "outputs": [],
   "source": [
    "plt.plot(z[:,0])"
   ]
  },
  {
   "cell_type": "markdown",
   "id": "77b8082f",
   "metadata": {},
   "source": [
    "What do you think will happen if we add the two vectors? (Actually, we will add together the first channel vectors to make a new first channel and then add together the second channel vectors to make a new second channel.)  This will actually sound discordant since the songs are very different from each other."
   ]
  },
  {
   "cell_type": "code",
   "execution_count": null,
   "id": "4648d02d",
   "metadata": {},
   "outputs": [],
   "source": [
    "Audio(x.T+z.T, rate=fs) "
   ]
  },
  {
   "cell_type": "markdown",
   "id": "18cf04d0",
   "metadata": {},
   "source": [
    "Now let's try a different linear combination."
   ]
  },
  {
   "cell_type": "code",
   "execution_count": null,
   "id": "1d4bd972",
   "metadata": {},
   "outputs": [],
   "source": [
    "a=2\n",
    "b=0.5\n",
    "Audio(a*x.T+b*z.T, rate=fs) "
   ]
  },
  {
   "cell_type": "markdown",
   "id": "96fca9de",
   "metadata": {},
   "source": [
    "Now we add the pure tone from above to the very beginning of the first song.  (We first make two copies of the pure tone so it has two channels.)"
   ]
  },
  {
   "cell_type": "code",
   "execution_count": null,
   "id": "795abf12",
   "metadata": {},
   "outputs": [],
   "source": [
    "Audio(np.row_stack((pure, pure)) + x[:len(pure), :].T, rate=fs) "
   ]
  },
  {
   "cell_type": "markdown",
   "id": "4e5d8e50",
   "metadata": {},
   "source": [
    "So, performing the linear operations on digital sound vectors is useful.  (Possibly informative, based on the context.)\n",
    "\n",
    "Summarizing:\n",
    "\n",
    "Scalar multiplying by a scalar > 1: Makes the sound louder\n",
    "\n",
    "Scalar multiplying by a positive scalar < 1: Makes the sound quieter\n",
    "\n",
    "Scalar multiplying by negative 1: Makes a similar sound that can be used to cancel out the original sound\n",
    "\n",
    "Vector addition: Mixes the sounds\n",
    "\n",
    "Linear combination: Mixes the sounds at potentially different amounts"
   ]
  }
 ],
 "metadata": {
  "kernelspec": {
   "display_name": "Python 3",
   "language": "python",
   "name": "python3"
  },
  "language_info": {
   "codemirror_mode": {
    "name": "ipython",
    "version": 3
   },
   "file_extension": ".py",
   "mimetype": "text/x-python",
   "name": "python",
   "nbconvert_exporter": "python",
   "pygments_lexer": "ipython3",
   "version": "3.11.6"
  }
 },
 "nbformat": 4,
 "nbformat_minor": 5
}
