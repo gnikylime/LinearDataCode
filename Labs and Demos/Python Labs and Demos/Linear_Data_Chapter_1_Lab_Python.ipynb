{
 "cells": [
  {
   "cell_type": "markdown",
   "metadata": {},
   "source": [
    "Linear Data Lab 1\n",
    "\n",
    "Original lab written by: Emily J. King\n",
    "\n",
    "Goals: Get comfortable using numpy and loading/manipulating vectors and matrices, including how to create special arrays, like increasing sequences of integers and all-ones/all-zeros.  Apply vector and matrix notation in mathematical and programming form. Judge when vectors/matrices are equal mathematically and on computer"
   ]
  },
  {
   "cell_type": "markdown",
   "metadata": {},
   "source": [
    "To do linear algebra in Python / Jupyter, we will always need to load packages at the beginning of each lab. We will often assign the package names common abbreviations (e.g., \"np\" for \"numpy\") to decrease the number of characters we need to type to use the functions.\n",
    "\n",
    "Numpy is a package that will be used for math functions in every lab this course.  Inside numpy, linalg contains other useful functions that will arise in certain labs.  "
   ]
  },
  {
   "cell_type": "code",
   "execution_count": null,
   "metadata": {},
   "outputs": [],
   "source": [
    "import numpy as np  "
   ]
  },
  {
   "cell_type": "markdown",
   "metadata": {},
   "source": [
    "We begin by entering in a numpy one-way array and play around with some display options.  One-way arrays will be the main way that we represent vectors in R^d on a computer."
   ]
  },
  {
   "cell_type": "code",
   "execution_count": null,
   "metadata": {},
   "outputs": [],
   "source": [
    "x = np.array([0.1,-0.05, 0.2, -0.77])\n",
    "print(x)\n",
    "print(\"The vector x is\",x,\".\")"
   ]
  },
  {
   "cell_type": "markdown",
   "metadata": {},
   "source": [
    "It will often be useful to manipulate a vector where all of the entries are constant.  The most basic version is all zeros."
   ]
  },
  {
   "cell_type": "code",
   "execution_count": null,
   "metadata": {},
   "outputs": [],
   "source": [
    "y=np.zeros(3)\n",
    "print(\"The vector y is\",y,\".\")"
   ]
  },
  {
   "cell_type": "markdown",
   "metadata": {},
   "source": [
    "On a computer, we will typically represent a constant vector with non-zero entries by first creating a one way array with all ones as entries before then scaling each entry."
   ]
  },
  {
   "cell_type": "code",
   "execution_count": null,
   "metadata": {},
   "outputs": [],
   "source": [
    "y = np.ones(3)\n",
    "print(\"The vector y is\",y,\".\")"
   ]
  },
  {
   "cell_type": "markdown",
   "metadata": {},
   "source": [
    "Now let's make a different constant array. "
   ]
  },
  {
   "cell_type": "code",
   "execution_count": null,
   "metadata": {},
   "outputs": [],
   "source": [
    "y = 2*np.ones(3)\n",
    "print(\"The vector y is\",y,\".\")"
   ]
  },
  {
   "cell_type": "markdown",
   "metadata": {},
   "source": [
    "Notice that 2*np.ones(3) creates an array with three entries, all 1's.  Play around the with code above to make an array with all entries equal to -3.2."
   ]
  },
  {
   "cell_type": "markdown",
   "metadata": {},
   "source": [
    "It will also be useful to create one way arrays with arithmetic sequences as entries, like the numbers 1 to 10.  In Python, this is acheived by \"arange\" (not: \"arrange\"!)."
   ]
  },
  {
   "cell_type": "code",
   "execution_count": null,
   "metadata": {},
   "outputs": [],
   "source": [
    "z=np.arange(1,11)\n",
    "print(\"The vector z is\",z,\".\")"
   ]
  },
  {
   "cell_type": "markdown",
   "metadata": {},
   "source": [
    "Play around with the above command to generate a one-way array with entries -5, -4, -3, -2, -1, 0, 1, 2, 3, 4, 5."
   ]
  },
  {
   "cell_type": "markdown",
   "metadata": {},
   "source": [
    "Determine the dimensions of the arrays and compare to the number of elements."
   ]
  },
  {
   "cell_type": "code",
   "execution_count": null,
   "metadata": {},
   "outputs": [],
   "source": [
    "print(\"The dimension(s) (in Python) of x is\",x.shape,\".\")\n",
    "print(\"The number of elements of x is\",len(x),\".\")\n",
    "\n",
    "print(\"The dimension(s) (in Python) of y is\",y.shape,\".\")\n",
    "print(\"The number of elements of y is\",len(y),\".\")\n",
    "\n",
    "print(\"The dimension(s) (in Python) of z is\",z.shape,\".\")\n",
    "print(\"The number of elements of z is\",len(z),\".\")"
   ]
  },
  {
   "cell_type": "markdown",
   "metadata": {},
   "source": [
    "We will see later in the course that it is at times advantageous mathematically to view vectors with d entries as dx1 or 1xd matrices.  Although it is possible to force Python to create a dx1 or 1xd two-dimensional array that \"looks\" like a vector, the code is clunky and makes other operations not work correctly.\n",
    "\n",
    "Now let's do some basic vector manipulations.  First, we display some parts of the given vectors, remembering that counting starts with 0 in Python.  So, the first entry indexed by 0, the second by 1, and so on.  This is similar to time, where the second hour of the day starts at 1 A.M., the third hour at 2 A.M., etc.\n",
    "\n",
    "Also, colons fill in gaps.  E.g., 0:2 extracts entries indexed by 0 and 1, but also so does :2.\n",
    "\n",
    "Finally, one can access entries at the end of arrays using negative indices."
   ]
  },
  {
   "cell_type": "code",
   "execution_count": null,
   "metadata": {},
   "outputs": [],
   "source": [
    "print(\"The first entry of z is\",z[0],\".\")\n",
    "print(\"The first two entries of z are\",z[0:2],\".\")\n",
    "print(\"The first two entries of z are\",z[:2],\".\")\n",
    "print(\"The middle four entries of z are\",z[3:7],\".\")\n",
    "print(\"The last entry of z is\",z[-1],\".\")\n",
    "print(\"The last two entries of z are\",z[-2:],\".\")"
   ]
  },
  {
   "cell_type": "markdown",
   "metadata": {},
   "source": [
    "Play around with the commands above to access different entries and ranges of entries in the arrays."
   ]
  },
  {
   "cell_type": "markdown",
   "metadata": {},
   "source": [
    "Now let's change entries of the vectors."
   ]
  },
  {
   "cell_type": "code",
   "execution_count": null,
   "metadata": {},
   "outputs": [],
   "source": [
    "y[0] = 5 \n",
    "print(\"Changing the first entry of y to be 5, we get\",y,\".\")\n",
    "\n",
    "y[1] = 2*x[0]\n",
    "print(\"Next, changing the second entry of y to be twice the first entry of x, we get\",y,\".\")"
   ]
  },
  {
   "cell_type": "markdown",
   "metadata": {},
   "source": [
    "Now let's change multiple entries at once."
   ]
  },
  {
   "cell_type": "code",
   "execution_count": null,
   "metadata": {},
   "outputs": [],
   "source": [
    "z[3:7]=5*np.ones(4)\n",
    "print(\"Chaning the middle four entries of z to all be equal to 5,\\n we get\",z,\".\")"
   ]
  },
  {
   "cell_type": "code",
   "execution_count": null,
   "metadata": {},
   "outputs": [],
   "source": [
    "z[3:7]=x\n",
    "print(\"Chaning the middle four entries of z to be equal to the entries x,\\n we get\",z,\".\")"
   ]
  },
  {
   "cell_type": "markdown",
   "metadata": {},
   "source": [
    "Oh no!  Somehow when we tried to change the middle four entries of z to [ 0.1  -0.05  0.2 -0.77], they all changed to 0. What happened? The problem was that z and x are different data types.  For some operations, Python implicitly upcasts (e.g., views the integers as floating point numbers), but here it has implicitly downcast (e.g., rounded the floating point numbers to integers).  \n",
    "\n",
    "It's always important to check your work to ensure the computer is doing what you want it to do!"
   ]
  },
  {
   "cell_type": "code",
   "execution_count": null,
   "metadata": {},
   "outputs": [],
   "source": [
    "print(\"The data type of x is\",x.dtype,\".\")\n",
    "print(\"The data type of z is\",z.dtype,\".\")"
   ]
  },
  {
   "cell_type": "markdown",
   "metadata": {},
   "source": [
    "We can fix this issue by recasting z to be floating point."
   ]
  },
  {
   "cell_type": "code",
   "execution_count": null,
   "metadata": {},
   "outputs": [],
   "source": [
    "z=z.astype(float)\n",
    "z[3:7]=x\n",
    "print(\"Changing the middle four entries of z to be equal to the entries x,\\n we get\",z,\".\")\n",
    "\n",
    "z[7:]=-3*y\n",
    "print(\"Next, changing the last three entries of z to be -3 times the entries of y,\\n we have\",z,\".\")"
   ]
  },
  {
   "cell_type": "markdown",
   "metadata": {},
   "source": [
    "Now, let's do some similar operations for two-way arrays, the standard way we will represent matrices on a computer.  In Python, two-way arrays are represented as one-way arrays of one-way arrays. In mathematical parlance, we will list the rows of the matrix in order top-to-bottom.\n",
    "\n",
    "As with one-way arrays, the indices start at 0."
   ]
  },
  {
   "cell_type": "code",
   "execution_count": null,
   "metadata": {},
   "outputs": [],
   "source": [
    "A = np.array([[1, 2], [3, 4]])\n",
    "print(\"The matrix A is\\n\",A,\".\")\n",
    "\n",
    "print(\"The (1,2) entry of A is\",A[0,1],\".\")\n",
    "\n",
    "print(\"The (1,2) entry of A is\",A[0][1],\".\")\n",
    "\n",
    "print(\"The first row of A is\",A[0],\".\")\n",
    "\n",
    "print(\"The second column of A is\",A[:,1],\".\")"
   ]
  },
  {
   "cell_type": "markdown",
   "metadata": {},
   "source": [
    "Notice how the second column is written by Python horizontally because it is treating is after extraction as a directionless list of numbers."
   ]
  },
  {
   "cell_type": "markdown",
   "metadata": {},
   "source": [
    "Now let's create some constant two-way array and also start changing entries of two-way arrays."
   ]
  },
  {
   "cell_type": "code",
   "execution_count": null,
   "metadata": {},
   "outputs": [],
   "source": [
    "B=np.zeros([6,6])\n",
    "print(\"The matrix B is\\n\",B,\".\")\n",
    "\n",
    "C=np.ones([3,3])\n",
    "print(\"The matrix C is\\n\",C,\".\")\n",
    "\n",
    "B[:2,:2]=A\n",
    "print(\"Replacing the upper left 2x2 entries of B with A results in\\n\",B,\".\")\n",
    "\n",
    "B[-3:,-3:]=-2.5*C\n",
    "print(\"Next, replacing the lower right 3x3 entries of B with -2.5 times each entry in C results in\\n\",B,\".\")"
   ]
  },
  {
   "cell_type": "markdown",
   "metadata": {},
   "source": [
    "Let's quickly make a three-way array to represent a valence three tensor."
   ]
  },
  {
   "cell_type": "code",
   "execution_count": null,
   "metadata": {},
   "outputs": [],
   "source": [
    "T=np.array([[[1,2],[3,4],[5,6],[7,8]],np.zeros([4,2]),-np.ones([4,2])])\n",
    "print(\"The dimensions of T are\",T.shape,\".\")\n",
    "print(\"The (1,3,2) entry of T is\",T[0,2,1],\".\")\n",
    "print(\"The first slice of T is\\n\",T[0],\".\")\n",
    "print(\"The second 'column' of the first slice is\",T[0,:,1],\".\")"
   ]
  },
  {
   "cell_type": "markdown",
   "metadata": {},
   "source": [
    "Play around with various commands to modify the three-way array more.  Practice making a four-way array."
   ]
  },
  {
   "cell_type": "markdown",
   "metadata": {},
   "source": [
    "Finally, we test \"equality\" of arrays in Python.  Due to floating point arithmetic issues, typically array representations of vectors/matrices/tensors which are mathematically equal are not exactly equal on the computer.  Thus, we must test that all of the entries are really close."
   ]
  },
  {
   "cell_type": "markdown",
   "metadata": {},
   "source": [
    "Define a random one-way array u with 6 entries. (If you don't know probability, just take \"random\" to mean something that a human wouldn't likely write down if asked for a vector. If you know probability, each entry is a draw independently from the uniform [0,1] probability distribution.)"
   ]
  },
  {
   "cell_type": "code",
   "execution_count": null,
   "metadata": {},
   "outputs": [],
   "source": [
    "u = np.random.rand(7)\n",
    "print(u)"
   ]
  },
  {
   "cell_type": "markdown",
   "metadata": {},
   "source": [
    "Now, we're doing to make a new array v which is equal to u."
   ]
  },
  {
   "cell_type": "code",
   "execution_count": null,
   "metadata": {},
   "outputs": [],
   "source": [
    "v=u\n",
    "print(\"v is\",v,\".\")\n",
    "print(\"u is\",u,\".\")\n"
   ]
  },
  {
   "cell_type": "markdown",
   "metadata": {},
   "source": [
    "Now let's modify u."
   ]
  },
  {
   "cell_type": "code",
   "execution_count": null,
   "metadata": {},
   "outputs": [],
   "source": [
    "u[0]=1\n",
    "print(\"v is\",v,\".\")\n",
    "print(\"u is\",u,\".\")"
   ]
  },
  {
   "cell_type": "markdown",
   "metadata": {},
   "source": [
    "Oh no! v changed as well.  This is because v=u created a reference, not a copy."
   ]
  },
  {
   "cell_type": "code",
   "execution_count": null,
   "metadata": {},
   "outputs": [],
   "source": [
    "v=np.copy(u)\n",
    "print(\"v is\",v,\".\")\n",
    "print(\"u is\",u,\".\")"
   ]
  },
  {
   "cell_type": "code",
   "execution_count": null,
   "metadata": {},
   "outputs": [],
   "source": [
    "u=2.2*u\n",
    "print(\"v is\",v,\".\")\n",
    "print(\"u is\",u,\".\")"
   ]
  },
  {
   "cell_type": "markdown",
   "metadata": {},
   "source": [
    "So, now changing u (here, by multiplying each entry by 2.2) doesn't change v."
   ]
  },
  {
   "cell_type": "markdown",
   "metadata": {},
   "source": [
    "Let's modify v now."
   ]
  },
  {
   "cell_type": "code",
   "execution_count": null,
   "metadata": {},
   "outputs": [],
   "source": [
    "v=v/np.pi"
   ]
  },
  {
   "cell_type": "markdown",
   "metadata": {},
   "source": [
    "And let's modify some more."
   ]
  },
  {
   "cell_type": "code",
   "execution_count": null,
   "metadata": {},
   "outputs": [],
   "source": [
    "v=2.2*v*np.pi"
   ]
  },
  {
   "cell_type": "markdown",
   "metadata": {},
   "source": [
    "Note that we multiplied each entry of u by 2.2.  On the other hand, we first divided each entry of v by pi and then multiplied the result of that by 2.2*pi.  Mathematically, both result in the same outcome.  However, floating point arithmetic on the computer isn't perfect."
   ]
  },
  {
   "cell_type": "code",
   "execution_count": null,
   "metadata": {},
   "outputs": [],
   "source": [
    "u==v"
   ]
  },
  {
   "cell_type": "markdown",
   "metadata": {},
   "source": [
    "Most likely, when you ran the above command, you received a mixed list of True's and False's, saying that some of the entries were exactly equal and some not.  However, the False's are due to floating point arithmetic error.  Thus, we will NEVER use == in this class!  The np.allclose command will instead tell us when one-way arrays are within floating point arithmetic error (and thus likely represent vectors which are mathematically equal)."
   ]
  },
  {
   "cell_type": "code",
   "execution_count": null,
   "metadata": {},
   "outputs": [],
   "source": [
    "np.allclose(u,v)"
   ]
  },
  {
   "cell_type": "markdown",
   "metadata": {},
   "source": [
    "The same command works for multiway arrays."
   ]
  },
  {
   "cell_type": "code",
   "execution_count": null,
   "metadata": {},
   "outputs": [],
   "source": [
    "np.allclose(A,A)"
   ]
  },
  {
   "cell_type": "code",
   "execution_count": null,
   "metadata": {},
   "outputs": [],
   "source": [
    "np.allclose(T,T)"
   ]
  },
  {
   "cell_type": "markdown",
   "metadata": {},
   "source": [
    "Exercises"
   ]
  },
  {
   "cell_type": "markdown",
   "metadata": {},
   "source": [
    "1.  Generate a random array with 10 entries.  Call that array p."
   ]
  },
  {
   "cell_type": "code",
   "execution_count": null,
   "metadata": {},
   "outputs": [],
   "source": []
  },
  {
   "cell_type": "markdown",
   "metadata": {},
   "source": [
    "2. Make an all-zeros array with 10 entries.  Call that array q.  \n"
   ]
  },
  {
   "cell_type": "code",
   "execution_count": null,
   "metadata": {},
   "outputs": [],
   "source": []
  },
  {
   "cell_type": "markdown",
   "metadata": {},
   "source": [
    "3. Make the first entry of q be equal to the second entry of p.  (Remember where indexing starts in Python.)"
   ]
  },
  {
   "cell_type": "code",
   "execution_count": null,
   "metadata": {},
   "outputs": [],
   "source": []
  },
  {
   "cell_type": "markdown",
   "metadata": {},
   "source": [
    "4. Make a two-way array with first \"row\" equal to p and second \"row\" equal to the q."
   ]
  },
  {
   "cell_type": "code",
   "execution_count": null,
   "metadata": {},
   "outputs": [],
   "source": []
  },
  {
   "cell_type": "markdown",
   "metadata": {},
   "source": [
    "5. Make r be a copy of p."
   ]
  },
  {
   "cell_type": "code",
   "execution_count": null,
   "metadata": {},
   "outputs": [],
   "source": []
  },
  {
   "cell_type": "markdown",
   "metadata": {},
   "source": [
    "6. Multiply each entry in r by 5.1 times square root of two.  (np.sqrt(a) returns the square root of a.)"
   ]
  },
  {
   "cell_type": "code",
   "execution_count": null,
   "metadata": {},
   "outputs": [],
   "source": []
  },
  {
   "cell_type": "markdown",
   "metadata": {},
   "source": [
    "7. Divide each entry in r by 5.1 times square root of two."
   ]
  },
  {
   "cell_type": "code",
   "execution_count": null,
   "metadata": {},
   "outputs": [],
   "source": []
  },
  {
   "cell_type": "markdown",
   "metadata": {},
   "source": [
    "8. Test if p and r are equal within floating point arithmetic."
   ]
  }
 ],
 "metadata": {
  "kernelspec": {
   "display_name": "Python 3",
   "language": "python",
   "name": "python3"
  },
  "language_info": {
   "codemirror_mode": {
    "name": "ipython",
    "version": 3
   },
   "file_extension": ".py",
   "mimetype": "text/x-python",
   "name": "python",
   "nbconvert_exporter": "python",
   "pygments_lexer": "ipython3",
   "version": "3.12.2"
  }
 },
 "nbformat": 4,
 "nbformat_minor": 2
}
