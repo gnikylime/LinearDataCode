{
 "cells": [
  {
   "cell_type": "markdown",
   "metadata": {},
   "source": [
    "Linear Data Lab 3\n",
    "\n",
    "Original lab written by: Emily J. King\n",
    "\n",
    "Goals: Implementing and visualizing linear combinations. Computing moving averages."
   ]
  },
  {
   "cell_type": "code",
   "execution_count": null,
   "metadata": {},
   "outputs": [],
   "source": [
    "import numpy as np\n",
    "import matplotlib.pyplot as plt"
   ]
  },
  {
   "cell_type": "markdown",
   "metadata": {},
   "source": [
    "Section 1: Plotting small vectors"
   ]
  },
  {
   "cell_type": "code",
   "execution_count": null,
   "metadata": {},
   "outputs": [],
   "source": [
    "a=np.array([1, 3, -1, -2, 4, 3])"
   ]
  },
  {
   "cell_type": "markdown",
   "metadata": {},
   "source": [
    "Plotting the above vector.\n",
    "\n",
    "To plot a vector in Matplotlib like the graph of a function, simply use plt.plot(VECTOR).  The '-o' tells Matplotlib to add markers at the vector values, and then connect consective entries with line segments, which is useful for visualization of small vectors.  "
   ]
  },
  {
   "cell_type": "code",
   "execution_count": null,
   "metadata": {},
   "outputs": [],
   "source": [
    "plt.plot(a,'-o')"
   ]
  },
  {
   "cell_type": "markdown",
   "metadata": {},
   "source": [
    "Another vector."
   ]
  },
  {
   "cell_type": "code",
   "execution_count": null,
   "metadata": {},
   "outputs": [],
   "source": [
    "b=np.array([-2, -3, 0, 5, 1, -2])\n",
    "plt.plot(b,'-o')"
   ]
  },
  {
   "cell_type": "markdown",
   "metadata": {},
   "source": [
    "Plotting the sum of the two vectors above with the vectors themselves.\n",
    "\n",
    "Note that once one starts doing more sophisticated things with Matplotlib, one normally needs to get the current axes via ax=plt.gca()."
   ]
  },
  {
   "cell_type": "code",
   "execution_count": null,
   "metadata": {},
   "outputs": [],
   "source": [
    "ax = plt.gca()\n",
    "plt.plot(a,'-o',label='a')\n",
    "plt.plot(b,'-o',label='b')\n",
    "plt.plot(a+b,'-o',label='a+b')\n",
    "ax.legend()"
   ]
  },
  {
   "cell_type": "markdown",
   "metadata": {},
   "source": [
    "Plotting 0.5a, a, and 2a together."
   ]
  },
  {
   "cell_type": "code",
   "execution_count": null,
   "metadata": {},
   "outputs": [],
   "source": [
    "ax = plt.gca()\n",
    "plt.plot(0.5*a,'-o',label='0.5a')\n",
    "plt.plot(a,'-o',label='a')\n",
    "plt.plot(2*a,'-o',label='2a')\n",
    "ax.legend()"
   ]
  },
  {
   "cell_type": "markdown",
   "metadata": {},
   "source": [
    "Section 2: Moving Averages\n",
    "\n",
    "Generate sine wave vector with 100 entries and visualize it.  "
   ]
  },
  {
   "cell_type": "code",
   "execution_count": null,
   "metadata": {},
   "outputs": [],
   "source": [
    "s=np.sin(2*np.pi*np.arange(100)/50)\n",
    "\n",
    "plt.plot(s)\n",
    "plt.ylim([-1.2,1.2])"
   ]
  },
  {
   "cell_type": "markdown",
   "metadata": {},
   "source": [
    "Generate noise vector with 100 entries and visualize it. (For those who have had stats, np.random.normal(0,1,k) generates an array with k elements where each entry is a draw from the standard normal/Gaussian distribution.  If you haven't had stats, no worries, just think of randn as making noise.)"
   ]
  },
  {
   "cell_type": "code",
   "execution_count": null,
   "metadata": {},
   "outputs": [],
   "source": [
    "n=0.1*np.random.normal(0,1,100)\n",
    "\n",
    "plt.plot(n)\n",
    "plt.ylim([-1.2,1.2])"
   ]
  },
  {
   "cell_type": "markdown",
   "metadata": {},
   "source": [
    "Make a noisy sine wave vector by adding the previous two vectors.  Then visualize the new vector."
   ]
  },
  {
   "cell_type": "code",
   "execution_count": null,
   "metadata": {},
   "outputs": [],
   "source": [
    "ns=s+n\n",
    "\n",
    "plt.plot(ns)\n",
    "plt.ylim([-1.2,1.2])"
   ]
  },
  {
   "cell_type": "markdown",
   "metadata": {},
   "source": [
    "Visualize the moving average with a window of length 3. \n",
    "\n",
    "To compute the moving average of window length K, use np.convolve(VECTOR,np.ones(K)/K,mode='valid').  mode='valid' tells Python to not come up for values at the endpoints.  For example, the first entry of a vector doesn't have any entries to the left of it, so you can't take an average of entries centered at the first entry. "
   ]
  },
  {
   "cell_type": "code",
   "execution_count": null,
   "metadata": {},
   "outputs": [],
   "source": [
    "plt.plot(np.convolve(ns,np.ones(3)/3,mode='valid'))\n",
    "plt.ylim([-1.2,1.2])"
   ]
  },
  {
   "cell_type": "markdown",
   "metadata": {},
   "source": [
    "Discuss what you see.  \n",
    "\n",
    "Now, visualize the moving average with a window of length 9."
   ]
  },
  {
   "cell_type": "code",
   "execution_count": null,
   "metadata": {},
   "outputs": [],
   "source": [
    "plt.plot(np.convolve(ns,np.ones(9)/9,mode='valid'))\n",
    "plt.ylim([-1.2,1.2])"
   ]
  },
  {
   "cell_type": "markdown",
   "metadata": {},
   "source": [
    "Discuss the difference between the last two plots.\n",
    "\n",
    "Now, visualize the moving average with a window of length 50."
   ]
  },
  {
   "cell_type": "code",
   "execution_count": null,
   "metadata": {},
   "outputs": [],
   "source": [
    "plt.plot(np.convolve(ns,np.ones(50)/50,mode='valid'))\n",
    "plt.ylim([-1.2,1.2])"
   ]
  },
  {
   "cell_type": "markdown",
   "metadata": {},
   "source": [
    "Exercises"
   ]
  },
  {
   "cell_type": "markdown",
   "metadata": {},
   "source": [
    "1. Create a 1D array with 1000 entries, all 4.5.  Call the array a."
   ]
  },
  {
   "cell_type": "code",
   "execution_count": null,
   "metadata": {},
   "outputs": [],
   "source": []
  },
  {
   "cell_type": "markdown",
   "metadata": {},
   "source": [
    "2. Create a 1D array with 1000 entries genderated as cos(0), cos(1/1000), cos(2/1000), ... Call the array b."
   ]
  },
  {
   "cell_type": "code",
   "execution_count": null,
   "metadata": {},
   "outputs": [],
   "source": []
  },
  {
   "cell_type": "markdown",
   "metadata": {},
   "source": [
    "3. Create a 1D array with 1000 entries which is Gaussian noise.  Call the array c."
   ]
  },
  {
   "cell_type": "code",
   "execution_count": null,
   "metadata": {},
   "outputs": [],
   "source": []
  },
  {
   "cell_type": "markdown",
   "metadata": {},
   "source": [
    "4. Plot the linear combination a - b + 0.1*c."
   ]
  },
  {
   "cell_type": "code",
   "execution_count": null,
   "metadata": {},
   "outputs": [],
   "source": []
  }
 ],
 "metadata": {
  "kernelspec": {
   "display_name": "Python 3",
   "language": "python",
   "name": "python3"
  },
  "language_info": {
   "codemirror_mode": {
    "name": "ipython",
    "version": 3
   },
   "file_extension": ".py",
   "mimetype": "text/x-python",
   "name": "python",
   "nbconvert_exporter": "python",
   "pygments_lexer": "ipython3",
   "version": "3.12.2"
  }
 },
 "nbformat": 4,
 "nbformat_minor": 2
}
