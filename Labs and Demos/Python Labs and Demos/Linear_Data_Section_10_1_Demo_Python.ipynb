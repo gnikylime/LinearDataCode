{
 "cells": [
  {
   "cell_type": "markdown",
   "metadata": {},
   "source": [
    "Listening to elements of null space and column space\n",
    "\n",
    "Author: Emily J King, https://www.math.colostate.edu/~king/\n",
    "\n",
    "Code to allow viewing and hearing elements of the null space/kernel and column space/image of particular matrices (certain Fourier-based projections / lowpass & highpass filters).\n",
    "\n",
    "Additional file needed: LinearDatasound.npz."
   ]
  },
  {
   "cell_type": "code",
   "execution_count": null,
   "metadata": {},
   "outputs": [],
   "source": [
    "import numpy as np\n",
    "import matplotlib.pyplot as plt\n",
    "from IPython.display import Audio \n",
    "from NSCSmatmul import NSCSmatmul # faster implementation of special matrix mult\n",
    "from numpy.linalg import norm"
   ]
  },
  {
   "cell_type": "markdown",
   "metadata": {},
   "source": [
    "Loading the song files."
   ]
  },
  {
   "cell_type": "code",
   "execution_count": null,
   "metadata": {},
   "outputs": [],
   "source": [
    "npzfile=np.load('LinearDatasound.npz')\n",
    "locals().update(npzfile)\n",
    "Fs= 44100 \n",
    "L=1000001"
   ]
  },
  {
   "cell_type": "markdown",
   "metadata": {},
   "source": [
    "Song credits: \n",
    "x = clip from King Gizzard and the Lizard Wizard - Crumbling Castle - Flightless Records - 2017\n",
    "y = clip from Björk - Hunter - OLI Records - 1998\n",
    "z = clip from Black Star - Definition - Rawkus Records - 1999\n",
    "u = clip from Johnny Cash - So Doggone Lonesome - Sun Records - 1955\n",
    "v = clip from Vicente Fernández - Guadalajara (remasterizado) - 2006\n",
    "\n",
    "If you want to play around with your own sound files, uncomment the following block of code and modify the file names. Replace y and yFs with z and zFs, respectively, in the code below to import in two different files and compare them as in code that follows.  Double check that yFs and zFs are both equal to 44100.  If so, set Fs = 44,000. If not, you'll need to change the rate in the audio calls."
   ]
  },
  {
   "cell_type": "code",
   "execution_count": null,
   "metadata": {},
   "outputs": [],
   "source": [
    "#%pip install audio2numpy # if needed.   \n",
    "#%pip install ffmpeg # if needed\n",
    "\n",
    "#import audio2numpy as a2n\n",
    "#y,yFs=a2n.audio_from_file(\"YOUR MP3, WAV, or AIFF\")\n",
    "#L=1000001\n",
    "#y=y[:L,]"
   ]
  },
  {
   "cell_type": "markdown",
   "metadata": {},
   "source": [
    "Set the threshold"
   ]
  },
  {
   "cell_type": "code",
   "execution_count": null,
   "metadata": {},
   "outputs": [],
   "source": [
    "t=np.round(20e3).astype(int)\n",
    "print(\"Percent of frequencies 'thrown out' is\",100*2*t/L)"
   ]
  },
  {
   "cell_type": "markdown",
   "metadata": {},
   "source": [
    "Song 1\n",
    "\n",
    "Plot song 1."
   ]
  },
  {
   "cell_type": "code",
   "execution_count": null,
   "metadata": {},
   "outputs": [],
   "source": [
    "plt.plot(x[:,0])"
   ]
  },
  {
   "cell_type": "markdown",
   "metadata": {},
   "source": [
    "Listen to song 1."
   ]
  },
  {
   "cell_type": "code",
   "execution_count": null,
   "metadata": {},
   "outputs": [],
   "source": [
    "Audio(x[:,0], normalize=False, rate=Fs) "
   ]
  },
  {
   "cell_type": "markdown",
   "metadata": {},
   "source": [
    "Multiply song 1 by the special matrix.  Note that due to the special structure of the matrix, I implemented the matrix multiplication in a faster way than the standard matrix multiplication operator @, hence the function NSCSmatmul."
   ]
  },
  {
   "cell_type": "code",
   "execution_count": null,
   "metadata": {},
   "outputs": [],
   "source": [
    "xtil=np.real(NSCSmatmul(x,t)) # np.real gets rid of imaginary numbers that would not be there in exact arithmetic but do appear in floating point arithmetic"
   ]
  },
  {
   "cell_type": "markdown",
   "metadata": {},
   "source": [
    "Play the output of the matrix multiplication.  This is an element of the column space / image of the matrix."
   ]
  },
  {
   "cell_type": "code",
   "execution_count": null,
   "metadata": {},
   "outputs": [],
   "source": [
    "Audio(xtil[:,0], normalize=False, rate=Fs) "
   ]
  },
  {
   "cell_type": "markdown",
   "metadata": {},
   "source": [
    "Play the part of song 1 \"thrown out\".  This is an element of the null space / kernel of the matrix.  (Note that the simple formula x-Ax to find what is thrown out DOES NOT work for most matrices!  This formula only works because the matrix A is a very special kind of matrix called an orthogonal projection.)"
   ]
  },
  {
   "cell_type": "code",
   "execution_count": null,
   "metadata": {},
   "outputs": [],
   "source": [
    "Audio(x[:,1]-xtil[:,1], normalize=False, rate=Fs) "
   ]
  },
  {
   "cell_type": "markdown",
   "metadata": {},
   "source": [
    "We can double check that this vector is indeed in the null space by multiplying it by the matrix and showing we get the zero vector."
   ]
  },
  {
   "cell_type": "code",
   "execution_count": null,
   "metadata": {},
   "outputs": [],
   "source": [
    "norm(NSCSmatmul(x-xtil,t))"
   ]
  },
  {
   "cell_type": "markdown",
   "metadata": {},
   "source": [
    "Song 2\n",
    "\n",
    "Plot song two."
   ]
  },
  {
   "cell_type": "code",
   "execution_count": null,
   "metadata": {},
   "outputs": [],
   "source": [
    "plt.plot(y[:,0])"
   ]
  },
  {
   "cell_type": "markdown",
   "metadata": {},
   "source": [
    "Listen to song 2."
   ]
  },
  {
   "cell_type": "code",
   "execution_count": null,
   "metadata": {},
   "outputs": [],
   "source": [
    "Audio(y[:,0], normalize=False, rate=Fs) "
   ]
  },
  {
   "cell_type": "markdown",
   "metadata": {},
   "source": [
    "Multiply song 2 by the special matrix.  "
   ]
  },
  {
   "cell_type": "code",
   "execution_count": null,
   "metadata": {},
   "outputs": [],
   "source": [
    "ytil=np.real(NSCSmatmul(y,t))"
   ]
  },
  {
   "cell_type": "markdown",
   "metadata": {},
   "source": [
    "Play the output of the matrix multiplication.  This is an element of the column space / image of the matrix."
   ]
  },
  {
   "cell_type": "code",
   "execution_count": null,
   "metadata": {},
   "outputs": [],
   "source": [
    "Audio(ytil[:,0], normalize=False, rate=Fs) "
   ]
  },
  {
   "cell_type": "markdown",
   "metadata": {},
   "source": [
    "Play the part of song 2 \"thrown out\".  This is an element of the null space / kernel of the matrix.  "
   ]
  },
  {
   "cell_type": "code",
   "execution_count": null,
   "metadata": {},
   "outputs": [],
   "source": [
    "Audio(y[:,0]-ytil[:,0], normalize=False, rate=Fs) "
   ]
  },
  {
   "cell_type": "markdown",
   "metadata": {},
   "source": [
    "We can double check that this vector is indeed in the null space by multiplying it by the matrix and showing we get the zero vector."
   ]
  },
  {
   "cell_type": "code",
   "execution_count": null,
   "metadata": {},
   "outputs": [],
   "source": [
    "norm(NSCSmatmul(y-ytil,t))"
   ]
  },
  {
   "cell_type": "markdown",
   "metadata": {},
   "source": [
    "Let's take the \"thrown out\" part of song 1 and add it to song 2:"
   ]
  },
  {
   "cell_type": "code",
   "execution_count": null,
   "metadata": {},
   "outputs": [],
   "source": [
    "yx=ytil+(x-xtil)\n",
    "Audio(yx[:,0], normalize=False, rate=Fs) "
   ]
  },
  {
   "cell_type": "markdown",
   "metadata": {},
   "source": [
    "Now let's multiply this mashup to see what happened."
   ]
  },
  {
   "cell_type": "code",
   "execution_count": null,
   "metadata": {},
   "outputs": [],
   "source": [
    "yxtil= np.real(NSCSmatmul(yx,t))\n",
    "Audio(yxtil[:,0], normalize=False, rate=Fs) "
   ]
  },
  {
   "cell_type": "markdown",
   "metadata": {},
   "source": [
    "It sounds (and is) just like the output when we just multiplied song 2 by the matrix.  This is because the matrix always throws the same things out.  So, adding the part thrown out from song 1 to song 2 won't change the fact that the part of song 1 thrown out is in the nullspace and mapped to the zero vector by the matrix.  No matter how it is mixed together, it still gets mapped to 0.\n",
    "\n",
    "Let's hear what was thrown out from the mix."
   ]
  },
  {
   "cell_type": "code",
   "execution_count": null,
   "metadata": {},
   "outputs": [],
   "source": [
    "Audio(yx[:,0]-yxtil[:,0], normalize=False, rate=Fs) "
   ]
  },
  {
   "cell_type": "markdown",
   "metadata": {},
   "source": [
    "It's just the combination of the thrown out parts from both songs 1 and 2.  However, the thrown out part from song 1 is a bit louder, making it hard to hear the other part."
   ]
  },
  {
   "cell_type": "markdown",
   "metadata": {},
   "source": [
    "Song 3\n",
    "\n",
    "Plot song three."
   ]
  },
  {
   "cell_type": "code",
   "execution_count": null,
   "metadata": {},
   "outputs": [],
   "source": [
    "plt.plot(z[:,0])"
   ]
  },
  {
   "cell_type": "markdown",
   "metadata": {},
   "source": [
    "Listen to song 3."
   ]
  },
  {
   "cell_type": "code",
   "execution_count": null,
   "metadata": {},
   "outputs": [],
   "source": [
    "Audio(z[:,0], normalize=False, rate=Fs) "
   ]
  },
  {
   "cell_type": "markdown",
   "metadata": {},
   "source": [
    "Multiply song 3 by the special matrix.  "
   ]
  },
  {
   "cell_type": "code",
   "execution_count": null,
   "metadata": {},
   "outputs": [],
   "source": [
    "ztil= np.real(NSCSmatmul(z,t))"
   ]
  },
  {
   "cell_type": "markdown",
   "metadata": {},
   "source": [
    "Play the output of the matrix multiplication.  This is an element of the column space / image of the matrix."
   ]
  },
  {
   "cell_type": "code",
   "execution_count": null,
   "metadata": {},
   "outputs": [],
   "source": [
    "Audio(ztil[:,0], rate=Fs)  # Due to some large values, there is an error if you don't allow normalization in the playback of this track"
   ]
  },
  {
   "cell_type": "markdown",
   "metadata": {},
   "source": [
    "Play the part of song 3 \"thrown out\".  This is an element of the null space / kernel of the matrix.  "
   ]
  },
  {
   "cell_type": "code",
   "execution_count": null,
   "metadata": {},
   "outputs": [],
   "source": [
    "Audio(z[:,0]-ztil[:,0], rate=Fs) # Due to some large values, there is an error if you don't allow normalization in the playback of this track"
   ]
  },
  {
   "cell_type": "markdown",
   "metadata": {},
   "source": [
    "We can double check that this vector is indeed in the null space by multiplying it by the matrix and showing we get the zero vector."
   ]
  },
  {
   "cell_type": "code",
   "execution_count": null,
   "metadata": {},
   "outputs": [],
   "source": [
    "norm(NSCSmatmul(z-ztil,t))"
   ]
  },
  {
   "cell_type": "markdown",
   "metadata": {},
   "source": [
    "Song 4\n",
    "\n",
    "Plot song 4."
   ]
  },
  {
   "cell_type": "code",
   "execution_count": null,
   "metadata": {},
   "outputs": [],
   "source": [
    "plt.plot(u[:,0])"
   ]
  },
  {
   "cell_type": "markdown",
   "metadata": {},
   "source": [
    "Listen to song 4."
   ]
  },
  {
   "cell_type": "code",
   "execution_count": null,
   "metadata": {},
   "outputs": [],
   "source": [
    "Audio(u[:,0], normalize=False, rate=Fs) "
   ]
  },
  {
   "cell_type": "markdown",
   "metadata": {},
   "source": [
    "Multiply song 4 by the special matrix.  "
   ]
  },
  {
   "cell_type": "code",
   "execution_count": null,
   "metadata": {},
   "outputs": [],
   "source": [
    "util= np.real(NSCSmatmul(u,t))"
   ]
  },
  {
   "cell_type": "markdown",
   "metadata": {},
   "source": [
    "Play the output of the matrix multiplication.  This is an element of the column space / image of the matrix."
   ]
  },
  {
   "cell_type": "code",
   "execution_count": null,
   "metadata": {},
   "outputs": [],
   "source": [
    "Audio(util[:,0], rate=Fs) "
   ]
  },
  {
   "cell_type": "markdown",
   "metadata": {},
   "source": [
    "Play the part of song 4 \"thrown out\".  This is an element of the null space / kernel of the matrix.  "
   ]
  },
  {
   "cell_type": "code",
   "execution_count": null,
   "metadata": {},
   "outputs": [],
   "source": [
    "Audio(u[:,0]-util[:,0], rate=Fs) "
   ]
  },
  {
   "cell_type": "markdown",
   "metadata": {},
   "source": [
    "We can double check that this vector is indeed in the null space by multiplying it by the matrix and showing we get the zero vector."
   ]
  },
  {
   "cell_type": "code",
   "execution_count": null,
   "metadata": {},
   "outputs": [],
   "source": [
    "norm(NSCSmatmul(u-util,t))"
   ]
  },
  {
   "cell_type": "markdown",
   "metadata": {},
   "source": [
    "Song 5\n",
    "\n",
    "Plot song 5."
   ]
  },
  {
   "cell_type": "code",
   "execution_count": null,
   "metadata": {},
   "outputs": [],
   "source": [
    "plt.plot(v[:,0])"
   ]
  },
  {
   "cell_type": "markdown",
   "metadata": {},
   "source": [
    "Listen to song 5."
   ]
  },
  {
   "cell_type": "code",
   "execution_count": null,
   "metadata": {},
   "outputs": [],
   "source": [
    "Audio(v[:,0], normalize=False, rate=Fs) "
   ]
  },
  {
   "cell_type": "markdown",
   "metadata": {},
   "source": [
    "Multiply song 5 by the special matrix.  "
   ]
  },
  {
   "cell_type": "code",
   "execution_count": null,
   "metadata": {},
   "outputs": [],
   "source": [
    "vtil= np.real(NSCSmatmul(v,t))"
   ]
  },
  {
   "cell_type": "markdown",
   "metadata": {},
   "source": [
    "Play the output of the matrix multiplication.  This is an element of the column space / image of the matrix."
   ]
  },
  {
   "cell_type": "code",
   "execution_count": null,
   "metadata": {},
   "outputs": [],
   "source": [
    "Audio(vtil[:,0], rate=Fs) "
   ]
  },
  {
   "cell_type": "markdown",
   "metadata": {},
   "source": [
    "Play the part of song 5 \"thrown out\".  This is an element of the null space / kernel of the matrix.  "
   ]
  },
  {
   "cell_type": "code",
   "execution_count": null,
   "metadata": {},
   "outputs": [],
   "source": [
    "Audio(v[:,0]-vtil[:,0], rate=Fs) "
   ]
  },
  {
   "cell_type": "markdown",
   "metadata": {},
   "source": [
    "We can double check that this vector is indeed in the null space by multiplying it by the matrix and showing we get the zero vector."
   ]
  },
  {
   "cell_type": "code",
   "execution_count": null,
   "metadata": {},
   "outputs": [],
   "source": [
    "norm(NSCSmatmul(v-vtil,t))"
   ]
  }
 ],
 "metadata": {
  "kernelspec": {
   "display_name": "Python 3",
   "language": "python",
   "name": "python3"
  },
  "language_info": {
   "codemirror_mode": {
    "name": "ipython",
    "version": 3
   },
   "file_extension": ".py",
   "mimetype": "text/x-python",
   "name": "python",
   "nbconvert_exporter": "python",
   "pygments_lexer": "ipython3",
   "version": "3.12.2"
  }
 },
 "nbformat": 4,
 "nbformat_minor": 2
}
